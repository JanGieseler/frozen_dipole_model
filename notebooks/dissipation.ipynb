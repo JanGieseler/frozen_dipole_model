{
 "cells": [
  {
   "cell_type": "code",
   "execution_count": 10,
   "metadata": {
    "ExecuteTime": {
     "end_time": "2019-05-08T18:26:49.127199Z",
     "start_time": "2019-05-08T18:26:49.054987Z"
    }
   },
   "outputs": [
    {
     "name": "stdout",
     "output_type": "stream",
     "text": [
      "The autoreload extension is already loaded. To reload it, use:\n",
      "  %reload_ext autoreload\n"
     ]
    }
   ],
   "source": [
    "import sys\n",
    "from pathlib import Path\n",
    "sys.executable\n",
    "\n",
    "import numpy as np\n",
    "import pandas as pd\n",
    "# from numpy import cos, sin, pi\n",
    "# from scipy.optimize import minimize, fmin\n",
    "import pandas as pd\n",
    "import os\n",
    "package_path = '../'\n",
    "if package_path is not None:\n",
    "    os.sys.path.append(package_path)\n",
    "\n",
    "    \n",
    "import json,yaml\n",
    "import matplotlib.pyplot as plt\n",
    "from time import sleep\n",
    "from tqdm import tqdm\n",
    "# from tqdm import tqdm_notebook as tqdm\n",
    "\n",
    "import matplotlib\n",
    "%matplotlib inline\n",
    "FONT_SIZE = 16\n",
    "\n",
    "# some setting for the plots\n",
    "font = {\n",
    "#     'family' : 'normal',\n",
    "        'weight' : 'normal',\n",
    "        'size'   : FONT_SIZE}\n",
    "matplotlib.rc('lines', linewidth=2)\n",
    "matplotlib.rc('font', **font)\n",
    "matplotlib.rc('xtick', labelsize=FONT_SIZE) \n",
    "matplotlib.rc('ytick', labelsize=FONT_SIZE) \n",
    "matplotlib.rc('axes', labelsize=FONT_SIZE) \n",
    "matplotlib.rc('legend', fontsize=12)\n",
    "matplotlib.rc('legend', handlelength=2)\n",
    "\n",
    "# auto reload external files, so that we can edit the external .py file and inmediately see the changes here\n",
    "%load_ext autoreload\n",
    "%autoreload 2\n",
    "\n",
    "\n",
    "from frozen_dipole_model import frozen_dipole_model, dissipation, thinfilm_superconductor"
   ]
  },
  {
   "cell_type": "markdown",
   "metadata": {},
   "source": [
    "## define functions"
   ]
  },
  {
   "cell_type": "code",
   "execution_count": 11,
   "metadata": {
    "ExecuteTime": {
     "end_time": "2019-05-08T18:26:50.173160Z",
     "start_time": "2019-05-08T18:26:50.104996Z"
    }
   },
   "outputs": [
    {
     "data": {
      "text/plain": [
       "{'Tgas': 4, 'Sdd': 1e-22}"
      ]
     },
     "execution_count": 11,
     "metadata": {},
     "output_type": "execute_result"
    }
   ],
   "source": [
    "def get_parameters(physical_parameters, selector = 'gas'):\n",
    "    \"\"\"\n",
    "\n",
    "    Args:\n",
    "        physical_parameters: lengths in um\n",
    "        selector: decide which parameters to pick\n",
    "\n",
    "    Returns:\n",
    "\n",
    "    \"\"\"\n",
    "    \n",
    "    if selector =='gas':\n",
    "        params = {k:v for k, v in physical_parameters.items() if k in ['mgas', 'Tgas', 'mgas', 'density', 'radius', 'Pgas']}\n",
    "        return params\n",
    "    elif selector =='jiggle':\n",
    "        params = {k:v for k, v in physical_parameters.items() \n",
    "                    if k in ['Bo', 'magnetic_moment', 'mass', 'levitation_height', 'thickness_SC', 'london_penetration_depth',\n",
    "                          'eta_bulk', 'vortex_lattice_constant']}\n",
    "        return params\n",
    "    \n",
    "    elif selector =='drag':\n",
    "        params = {k:v for k, v in physical_parameters.items() \n",
    "                    if k in ['frequency', 'levitation_height', 'magnetic_moment', 'mass',\n",
    "                        'eta_bulk', 'london_penetration_depth', 'thickness_SC', 'temperature', 'vortex_lattice_constant']}\n",
    "        return params\n",
    "    \n",
    "    elif selector =='mag':\n",
    "        params = {k:v for k, v in physical_parameters.items() \n",
    "                    if k in ['density', 'Br', 'chi_m_img', 'levitation_height',\n",
    "                        'radius', 'frequency']}\n",
    "        return params\n",
    "\n",
    "    elif selector == 'sc':\n",
    "        params = {k:v for k, v in physical_parameters.items() \n",
    "                    if k in ['density', 'Br', 'chi_sc_img', 'levitation_height',\n",
    "                        'radius', 'frequency', 'thickness_SC']}\n",
    "        \n",
    "        \n",
    "        return params\n",
    "\n",
    "    elif selector == 'disp':\n",
    "        params = {k:v for k, v in physical_parameters.items() \n",
    "                    if k in ['mass', 'Tgas', 'frequency', 'Sdd']}\n",
    "        \n",
    "        \n",
    "        return params\n",
    "\n",
    "\n",
    "physical_parameters = frozen_dipole_model.default_physical_parameters\n",
    "\n",
    "get_parameters(physical_parameters, selector = 'disp')"
   ]
  },
  {
   "cell_type": "markdown",
   "metadata": {},
   "source": [
    "## Plot each contribution individually - damping"
   ]
  },
  {
   "cell_type": "markdown",
   "metadata": {},
   "source": [
    "### gas damping"
   ]
  },
  {
   "cell_type": "markdown",
   "metadata": {
    "ExecuteTime": {
     "end_time": "2019-03-05T15:52:16.694765Z",
     "start_time": "2019-03-05T15:52:16.637684Z"
    }
   },
   "source": [
    "Gas damping\n",
    "$$\\gamma_{\\rm gas}/ 2 \\pi = 0.236 \\sqrt{\n",
    "\\frac{m_{gas}}{k_B  T_{gas}}\n",
    " }\\frac{P_{gas}}{a\\rho_{gas}}$$"
   ]
  },
  {
   "cell_type": "code",
   "execution_count": 12,
   "metadata": {
    "ExecuteTime": {
     "end_time": "2019-05-08T18:26:53.238539Z",
     "start_time": "2019-05-08T18:26:53.195783Z"
    }
   },
   "outputs": [],
   "source": [
    "# params = {k:v for k, v in dissipation.default_physical_parameters.items()\n",
    "#           if k in ['mgas', 'Tgas', 'mgas', 'density', 'radius']}\n",
    "\n",
    "# # params['radius'] = 20e-6 #2e-6\n",
    "# # params['density'] = 2000\n",
    "# # params['Tgas'] = 300\n",
    "# params"
   ]
  },
  {
   "cell_type": "code",
   "execution_count": 13,
   "metadata": {
    "ExecuteTime": {
     "end_time": "2019-05-08T18:26:53.760481Z",
     "start_time": "2019-05-08T18:26:53.723443Z"
    }
   },
   "outputs": [
    {
     "data": {
      "text/plain": [
       "0.08366745775228247"
      ]
     },
     "execution_count": 13,
     "metadata": {},
     "output_type": "execute_result"
    }
   ],
   "source": [
    "0.23*np.sqrt(4e-26/1.38e-23)/(7400*20e-6)"
   ]
  },
  {
   "cell_type": "code",
   "execution_count": 14,
   "metadata": {
    "ExecuteTime": {
     "end_time": "2019-05-08T18:26:54.326894Z",
     "start_time": "2019-05-08T18:26:54.290724Z"
    }
   },
   "outputs": [
    {
     "data": {
      "text/plain": [
       "{'london_penetration_depth': 1e-07, 'thickness_SC': 5e-07, 'eta_bulk': 3.5e-08}"
      ]
     },
     "execution_count": 14,
     "metadata": {},
     "output_type": "execute_result"
    }
   ],
   "source": [
    "params"
   ]
  },
  {
   "cell_type": "code",
   "execution_count": 15,
   "metadata": {
    "ExecuteTime": {
     "end_time": "2019-05-08T18:26:56.303552Z",
     "start_time": "2019-05-08T18:26:54.836789Z"
    }
   },
   "outputs": [
    {
     "data": {
      "text/plain": [
       "Text(0, 0.5, 'damping $\\\\gamma/2\\\\pi$ (Hz)')"
      ]
     },
     "execution_count": 15,
     "metadata": {},
     "output_type": "execute_result"
    },
    {
     "data": {
      "image/png": "[encoded data removed]",
      "text/plain": [
       "<Figure size 432x288 with 1 Axes>"
      ]
     },
     "metadata": {
      "needs_background": "light"
     },
     "output_type": "display_data"
    }
   ],
   "source": [
    "pressure = np.logspace(-8, -3,30)\n",
    "pressure_Pa = dissipation.millibar_to_pascals(pressure)\n",
    "params = get_parameters(physical_parameters, selector = 'gas')\n",
    "params['Pgas']= pressure_Pa\n",
    "plt.loglog(pressure, dissipation.gas_damping(**params)/(2*np.pi))\n",
    "\n",
    "plt.xlabel('pressure (mBar)')\n",
    "plt.title('pressure damping')\n",
    "plt.ylabel('damping $\\gamma/2\\pi$ (Hz)')"
   ]
  },
  {
   "cell_type": "code",
   "execution_count": 16,
   "metadata": {
    "ExecuteTime": {
     "end_time": "2019-05-08T18:26:56.384998Z",
     "start_time": "2019-05-08T18:26:56.306329Z"
    }
   },
   "outputs": [
    {
     "data": {
      "text/plain": [
       "10.678936064884546"
      ]
     },
     "execution_count": 16,
     "metadata": {},
     "output_type": "execute_result"
    }
   ],
   "source": [
    "pressure = 1e-4\n",
    "pressure_Pa = dissipation.millibar_to_pascals(pressure)\n",
    "params['Pgas']= pressure_Pa\n",
    "gamma = dissipation.gas_damping(**params)\n",
    "\n",
    "Q = 2*np.pi*1e3/gamma\n",
    "Q*1e-6"
   ]
  },
  {
   "cell_type": "code",
   "execution_count": 17,
   "metadata": {
    "ExecuteTime": {
     "end_time": "2019-05-08T18:26:56.564995Z",
     "start_time": "2019-05-08T18:26:56.404141Z"
    }
   },
   "outputs": [
    {
     "data": {
      "text/plain": [
       "{'radius': 9.999999999999999e-05,\n",
       " 'density': 7430,\n",
       " 'Pgas': 0.01,\n",
       " 'Tgas': 4,\n",
       " 'mgas': 4.8e-26}"
      ]
     },
     "execution_count": 17,
     "metadata": {},
     "output_type": "execute_result"
    }
   ],
   "source": [
    "params"
   ]
  },
  {
   "cell_type": "markdown",
   "metadata": {
    "ExecuteTime": {
     "end_time": "2019-02-26T22:06:00.149056Z",
     "start_time": "2019-02-26T22:06:00.104804Z"
    }
   },
   "source": [
    "### vortex jiggling"
   ]
  },
  {
   "cell_type": "code",
   "execution_count": 18,
   "metadata": {
    "ExecuteTime": {
     "end_time": "2019-05-08T18:26:56.770457Z",
     "start_time": "2019-05-08T18:26:56.718338Z"
    }
   },
   "outputs": [],
   "source": [
    "\n",
    "# M = dissipation.calc_magnetic_moment(params['Br'], params['radius'])\n",
    "# mu0 = dissipation.mu0\n",
    "# phi0 = dissipation.fluxquantum\n",
    "# ho = params['levitation_height']\n",
    "# nv =  M*mu0/(2*np.pi*ho**3*phi0)\n",
    "\n",
    "# print('vortex lattice constant (nm)', 1/np.sqrt(nv)*1e9)"
   ]
  },
  {
   "cell_type": "code",
   "execution_count": 19,
   "metadata": {
    "ExecuteTime": {
     "end_time": "2019-05-08T18:26:57.673158Z",
     "start_time": "2019-05-08T18:26:57.621773Z"
    }
   },
   "outputs": [],
   "source": [
    "# # Bo = phio/a^2 = phio nv\n",
    "# magnetic_moment = dissipation.calc_magnetic_moment(params['Br'], params['radius'])\n",
    "# print(magnetic_moment)\n",
    "# nv = dissipation.calc_nv(magnetic_moment, params['radius']*2)\n",
    "# print('nv (1e12)', nv*1e-12)\n",
    "# print('a (um)', 1/np.sqrt(nv)*1e6)"
   ]
  },
  {
   "cell_type": "code",
   "execution_count": 20,
   "metadata": {
    "ExecuteTime": {
     "end_time": "2019-05-08T18:26:58.268930Z",
     "start_time": "2019-05-08T18:26:58.210331Z"
    }
   },
   "outputs": [
    {
     "data": {
      "text/plain": [
       "{'Br': 0.73,\n",
       " 'earth_acceleration': 9.84,\n",
       " 'vacuum_permeability': 1.2566370614359173e-06,\n",
       " 'radius': 9.999999999999999e-05,\n",
       " 'density': 7430,\n",
       " 'Pgas': 0.001,\n",
       " 'Tgas': 4,\n",
       " 'mgas': 4.8e-26,\n",
       " 'kB': 1.38065e-23,\n",
       " 'london_penetration_depth': 1e-07,\n",
       " 'thickness_SC': 5e-07,\n",
       " 'fluxquantum': 2.0678e-15,\n",
       " 'eta_bulk': 3.5e-08,\n",
       " 'hbar': 1.0545718e-34,\n",
       " 'chi_m_img': 0.01,\n",
       " 'chi_sc_img': 0.001,\n",
       " 'Sdd': 1e-22,\n",
       " 'flux_depth': 1e-07,\n",
       " 'magnet_orientation': array([1, 0, 0]),\n",
       " 'levitation_height': 0.00019999999999999998,\n",
       " 'temperature': 4,\n",
       " 'mass': 3.112271122156287e-08,\n",
       " 'magnetic_moment': array([2.43333333e-06, 0.00000000e+00, 0.00000000e+00]),\n",
       " 'vortex_lattice_constant': 1.843671144122843e-07,\n",
       " 'Bo': 0.06083333333333333}"
      ]
     },
     "execution_count": 20,
     "metadata": {},
     "output_type": "execute_result"
    }
   ],
   "source": [
    "\n",
    "# physical_parameters = {k:v for k, v in dissipation.default_physical_parameters.items()\n",
    "#           if k in ['Br', 'density', 'radius',\n",
    "#                    'london_penetration_depth', 'thickness_SC',\n",
    "#                    'london_penetration_depth',\n",
    "#                    'eta_bulk', 'Tgas'\n",
    "#                   ]}\n",
    "\n",
    "physical_parameters = dissipation.default_physical_parameters\n",
    "\n",
    "def get_parameters_dict_for_damping(physical_parameters, lev_height_factor=2):\n",
    "    \"\"\"\n",
    "    calculate some additional quantities\n",
    "    \n",
    "    \"\"\"\n",
    "    params = physical_parameters\n",
    "    params['magnet_orientation']=np.array([1,0,0])\n",
    "    params['levitation_height']=lev_height_factor*params['radius']\n",
    "    params['temperature']=params['Tgas']\n",
    "    params['mass']=dissipation.calc_mass(params['density'], params['radius'])\n",
    "    params['magnetic_moment']=dissipation.calc_magnetic_moment(params['Br'], params['radius'])*params['magnet_orientation']\n",
    "\n",
    "\n",
    "    nv = dissipation.calc_nv(params['magnetic_moment'], params['levitation_height'])\n",
    "    params['vortex_lattice_constant']=1/np.sqrt(nv)\n",
    "\n",
    "    params['vortex_lattice_constant']=1/np.sqrt(nv)\n",
    "#     params['frequency'] = frequency  # 1 kHz\n",
    "\n",
    "    params['Bo']=params['fluxquantum']*nv\n",
    "    \n",
    "    return params\n",
    "\n",
    "get_parameters_dict_for_damping(physical_parameters)"
   ]
  },
  {
   "cell_type": "code",
   "execution_count": 21,
   "metadata": {
    "ExecuteTime": {
     "end_time": "2019-05-08T18:26:59.005524Z",
     "start_time": "2019-05-08T18:26:58.960477Z"
    }
   },
   "outputs": [
    {
     "data": {
      "text/plain": [
       "{'Br': 0.73,\n",
       " 'earth_acceleration': 9.84,\n",
       " 'vacuum_permeability': 1.2566370614359173e-06,\n",
       " 'radius': 9.999999999999999e-05,\n",
       " 'density': 7430,\n",
       " 'Pgas': 0.001,\n",
       " 'Tgas': 4,\n",
       " 'mgas': 4.8e-26,\n",
       " 'kB': 1.38065e-23,\n",
       " 'london_penetration_depth': 1e-07,\n",
       " 'thickness_SC': 5e-07,\n",
       " 'fluxquantum': 2.0678e-15,\n",
       " 'eta_bulk': 3.5e-08,\n",
       " 'hbar': 1.0545718e-34,\n",
       " 'chi_m_img': 0.01,\n",
       " 'chi_sc_img': 0.001,\n",
       " 'Sdd': 1e-22,\n",
       " 'flux_depth': 1e-07,\n",
       " 'magnet_orientation': array([1, 0, 0]),\n",
       " 'levitation_height': 0.00019999999999999998,\n",
       " 'temperature': 4,\n",
       " 'mass': 3.112271122156287e-08,\n",
       " 'magnetic_moment': array([2.43333333e-06, 0.00000000e+00, 0.00000000e+00]),\n",
       " 'vortex_lattice_constant': 1.843671144122843e-07,\n",
       " 'Bo': 0.06083333333333333}"
      ]
     },
     "execution_count": 21,
     "metadata": {},
     "output_type": "execute_result"
    }
   ],
   "source": [
    "physical_parameters"
   ]
  },
  {
   "cell_type": "code",
   "execution_count": 22,
   "metadata": {
    "ExecuteTime": {
     "end_time": "2019-05-08T18:26:59.654003Z",
     "start_time": "2019-05-08T18:26:59.610172Z"
    }
   },
   "outputs": [],
   "source": [
    "params = get_parameters(get_parameters_dict_for_damping(physical_parameters),\n",
    "                        selector = 'jiggle')"
   ]
  },
  {
   "cell_type": "code",
   "execution_count": 23,
   "metadata": {
    "ExecuteTime": {
     "end_time": "2019-05-08T18:27:00.607288Z",
     "start_time": "2019-05-08T18:27:00.348281Z"
    }
   },
   "outputs": [
    {
     "name": "stdout",
     "output_type": "stream",
     "text": [
      "gamma [2.33719814e-09 7.79066046e-10 9.34879255e-09]\n"
     ]
    },
    {
     "data": {
      "text/html": [
       "<div>\n",
       "<style scoped>\n",
       "    .dataframe tbody tr th:only-of-type {\n",
       "        vertical-align: middle;\n",
       "    }\n",
       "\n",
       "    .dataframe tbody tr th {\n",
       "        vertical-align: top;\n",
       "    }\n",
       "\n",
       "    .dataframe thead th {\n",
       "        text-align: right;\n",
       "    }\n",
       "</style>\n",
       "<table border=\"1\" class=\"dataframe\">\n",
       "  <thead>\n",
       "    <tr style=\"text-align: right;\">\n",
       "      <th></th>\n",
       "      <th>london_penetration_depth</th>\n",
       "      <th>thickness_SC</th>\n",
       "      <th>eta_bulk</th>\n",
       "      <th>levitation_height</th>\n",
       "      <th>mass</th>\n",
       "      <th>magnetic_moment</th>\n",
       "      <th>vortex_lattice_constant</th>\n",
       "      <th>Bo</th>\n",
       "    </tr>\n",
       "  </thead>\n",
       "  <tbody>\n",
       "    <tr>\n",
       "      <th>0</th>\n",
       "      <td>1.000000e-07</td>\n",
       "      <td>5.000000e-07</td>\n",
       "      <td>3.500000e-08</td>\n",
       "      <td>0.0002</td>\n",
       "      <td>3.112271e-08</td>\n",
       "      <td>0.000002</td>\n",
       "      <td>1.843671e-07</td>\n",
       "      <td>0.060833</td>\n",
       "    </tr>\n",
       "  </tbody>\n",
       "</table>\n",
       "</div>"
      ],
      "text/plain": [
       "   london_penetration_depth  thickness_SC      eta_bulk  levitation_height  \\\n",
       "0              1.000000e-07  5.000000e-07  3.500000e-08             0.0002   \n",
       "\n",
       "           mass  magnetic_moment  vortex_lattice_constant        Bo  \n",
       "0  3.112271e-08         0.000002             1.843671e-07  0.060833  "
      ]
     },
     "execution_count": 23,
     "metadata": {},
     "output_type": "execute_result"
    }
   ],
   "source": [
    "\n",
    "\n",
    "\n",
    "params = get_parameters(get_parameters_dict_for_damping(physical_parameters),\n",
    "                        selector = 'jiggle')\n",
    "\n",
    "# gamma = dissipation.vortex_damping_jiggle(\n",
    "#     **{k:v for k, v in physical_parameters.items() \n",
    "#        if k not in ['Br', 'frequency','radius', 'density', 'Tgas', 'magnet_orientation', 'temperature']},\n",
    "#     verbose=True\n",
    "# )\n",
    "\n",
    "gamma = dissipation.vortex_damping_jiggle(\n",
    "    **params,\n",
    "    verbose=False\n",
    ")\n",
    "\n",
    "print('gamma', gamma)\n",
    "pd.DataFrame.from_dict(params).iloc[0:1]\n"
   ]
  },
  {
   "cell_type": "markdown",
   "metadata": {},
   "source": [
    "### vortex drag\n",
    "Damping $\\gamma_{drag} = (2\\pi)^3  \\frac{\\pi}{2}  \\frac{A_i B_o^2}{m \\eta\\omega_d^2 a^4\\delta^6}$"
   ]
  },
  {
   "cell_type": "code",
   "execution_count": 24,
   "metadata": {
    "ExecuteTime": {
     "end_time": "2019-05-08T18:27:01.885183Z",
     "start_time": "2019-05-08T18:27:01.804052Z"
    }
   },
   "outputs": [
    {
     "ename": "TypeError",
     "evalue": "vortex_damping_drag() missing 1 required positional argument: 'frequency'",
     "output_type": "error",
     "traceback": [
      "\u001b[0;31m---------------------------------------------------------------------------\u001b[0m",
      "\u001b[0;31mTypeError\u001b[0m                                 Traceback (most recent call last)",
      "\u001b[0;32m<ipython-input-24-25cfb83a7137>\u001b[0m in \u001b[0;36m<module>\u001b[0;34m\u001b[0m\n\u001b[1;32m      1\u001b[0m \u001b[0mparams\u001b[0m \u001b[0;34m=\u001b[0m \u001b[0mget_parameters\u001b[0m\u001b[0;34m(\u001b[0m\u001b[0mphysical_parameters\u001b[0m\u001b[0;34m,\u001b[0m \u001b[0mselector\u001b[0m \u001b[0;34m=\u001b[0m \u001b[0;34m'drag'\u001b[0m\u001b[0;34m)\u001b[0m\u001b[0;34m\u001b[0m\u001b[0;34m\u001b[0m\u001b[0m\n\u001b[1;32m      2\u001b[0m \u001b[0;34m\u001b[0m\u001b[0m\n\u001b[0;32m----> 3\u001b[0;31m \u001b[0mgamma\u001b[0m \u001b[0;34m=\u001b[0m \u001b[0mdissipation\u001b[0m\u001b[0;34m.\u001b[0m\u001b[0mvortex_damping_drag\u001b[0m\u001b[0;34m(\u001b[0m\u001b[0;34m**\u001b[0m\u001b[0mparams\u001b[0m\u001b[0;34m)\u001b[0m\u001b[0;34m\u001b[0m\u001b[0;34m\u001b[0m\u001b[0m\n\u001b[0m\u001b[1;32m      4\u001b[0m \u001b[0;34m\u001b[0m\u001b[0m\n\u001b[1;32m      5\u001b[0m \u001b[0;36m2\u001b[0m\u001b[0;34m*\u001b[0m\u001b[0mnp\u001b[0m\u001b[0;34m.\u001b[0m\u001b[0mpi\u001b[0m\u001b[0;34m*\u001b[0m\u001b[0mparams\u001b[0m\u001b[0;34m[\u001b[0m\u001b[0;34m'frequency'\u001b[0m\u001b[0;34m]\u001b[0m\u001b[0;34m/\u001b[0m\u001b[0mgamma\u001b[0m\u001b[0;34m*\u001b[0m\u001b[0;36m1e-6\u001b[0m\u001b[0;34m\u001b[0m\u001b[0;34m\u001b[0m\u001b[0m\n",
      "\u001b[0;31mTypeError\u001b[0m: vortex_damping_drag() missing 1 required positional argument: 'frequency'"
     ]
    }
   ],
   "source": [
    "params = get_parameters(physical_parameters, selector = 'drag')\n",
    "\n",
    "gamma = dissipation.vortex_damping_drag(**params)\n",
    "\n",
    "2*np.pi*params['frequency']/gamma*1e-6"
   ]
  },
  {
   "cell_type": "code",
   "execution_count": 25,
   "metadata": {
    "ExecuteTime": {
     "end_time": "2019-05-08T18:27:07.485009Z",
     "start_time": "2019-05-08T18:27:07.448677Z"
    }
   },
   "outputs": [
    {
     "name": "stdout",
     "output_type": "stream",
     "text": [
      "field fluctuations due to vorteces 6.1e+01 mT\n"
     ]
    }
   ],
   "source": [
    "print('field fluctuations due to vorteces {:0.2} mT'.format(physical_parameters['Bo']*1e3  ))"
   ]
  },
  {
   "cell_type": "code",
   "execution_count": 26,
   "metadata": {
    "ExecuteTime": {
     "end_time": "2019-05-08T18:27:08.007012Z",
     "start_time": "2019-05-08T18:27:07.937455Z"
    }
   },
   "outputs": [
    {
     "name": "stdout",
     "output_type": "stream",
     "text": [
      "kint (N/m) 1.4985221550794883e-06\n",
      "particle mass (kg) 3.112271122156287e-08\n",
      "freq from interaction with single vortex model (Hz) 1.1043659405464714\n"
     ]
    },
    {
     "ename": "KeyError",
     "evalue": "'frequency'",
     "output_type": "error",
     "traceback": [
      "\u001b[0;31m---------------------------------------------------------------------------\u001b[0m",
      "\u001b[0;31mKeyError\u001b[0m                                  Traceback (most recent call last)",
      "\u001b[0;32m<ipython-input-26-050cca0d47de>\u001b[0m in \u001b[0;36m<module>\u001b[0;34m\u001b[0m\n\u001b[1;32m      6\u001b[0m \u001b[0mfreq_single_vortex\u001b[0m \u001b[0;34m=\u001b[0m \u001b[0mnp\u001b[0m\u001b[0;34m.\u001b[0m\u001b[0msqrt\u001b[0m\u001b[0;34m(\u001b[0m\u001b[0mkint\u001b[0m\u001b[0;34m/\u001b[0m\u001b[0mmass\u001b[0m\u001b[0;34m)\u001b[0m\u001b[0;34m/\u001b[0m \u001b[0;34m(\u001b[0m\u001b[0;36m2\u001b[0m\u001b[0;34m*\u001b[0m\u001b[0mnp\u001b[0m\u001b[0;34m.\u001b[0m\u001b[0mpi\u001b[0m\u001b[0;34m)\u001b[0m\u001b[0;34m\u001b[0m\u001b[0;34m\u001b[0m\u001b[0m\n\u001b[1;32m      7\u001b[0m \u001b[0mprint\u001b[0m\u001b[0;34m(\u001b[0m\u001b[0;34m'freq from interaction with single vortex model (Hz)'\u001b[0m\u001b[0;34m,\u001b[0m \u001b[0mfreq_single_vortex\u001b[0m\u001b[0;34m)\u001b[0m\u001b[0;34m\u001b[0m\u001b[0;34m\u001b[0m\u001b[0m\n\u001b[0;32m----> 8\u001b[0;31m \u001b[0mnumber_vortecies\u001b[0m \u001b[0;34m=\u001b[0m \u001b[0mparams\u001b[0m\u001b[0;34m[\u001b[0m\u001b[0;34m'frequency'\u001b[0m\u001b[0;34m]\u001b[0m\u001b[0;34m/\u001b[0m\u001b[0mfreq_single_vortex\u001b[0m\u001b[0;34m\u001b[0m\u001b[0;34m\u001b[0m\u001b[0m\n\u001b[0m\u001b[1;32m      9\u001b[0m \u001b[0mprint\u001b[0m\u001b[0;34m(\u001b[0m\u001b[0;34m'estimated number of vortecies'\u001b[0m\u001b[0;34m,\u001b[0m \u001b[0mnumber_vortecies\u001b[0m\u001b[0;34m)\u001b[0m\u001b[0;34m\u001b[0m\u001b[0;34m\u001b[0m\u001b[0m\n\u001b[1;32m     10\u001b[0m \u001b[0mprint\u001b[0m\u001b[0;34m(\u001b[0m\u001b[0;34m'estimated vortex density [1/um^2]'\u001b[0m\u001b[0;34m,\u001b[0m \u001b[0mnumber_vortecies\u001b[0m \u001b[0;34m/\u001b[0m \u001b[0;34m(\u001b[0m\u001b[0mnp\u001b[0m\u001b[0;34m.\u001b[0m\u001b[0mpi\u001b[0m\u001b[0;34m*\u001b[0m\u001b[0mphysical_parameters\u001b[0m\u001b[0;34m[\u001b[0m\u001b[0;34m'radius'\u001b[0m\u001b[0;34m]\u001b[0m\u001b[0;34m**\u001b[0m\u001b[0;36m2\u001b[0m\u001b[0;34m*\u001b[0m\u001b[0;36m1e12\u001b[0m\u001b[0;34m)\u001b[0m\u001b[0;34m)\u001b[0m\u001b[0;34m\u001b[0m\u001b[0;34m\u001b[0m\u001b[0m\n",
      "\u001b[0;31mKeyError\u001b[0m: 'frequency'"
     ]
    }
   ],
   "source": [
    "magnetic_moment = dissipation.calc_magnetic_moment(physical_parameters['Br'], physical_parameters['radius'])\n",
    "mass = dissipation.calc_mass(physical_parameters['density'], physical_parameters['radius'])\n",
    "kint = dissipation.calc_kint(params['levitation_height'], dm=100e-9, a=500e-9, magnetic_moment=magnetic_moment)\n",
    "print('kint (N/m)', kint)\n",
    "print('particle mass (kg)', mass)\n",
    "freq_single_vortex = np.sqrt(kint/mass)/ (2*np.pi)\n",
    "print('freq from interaction with single vortex model (Hz)', freq_single_vortex)\n",
    "number_vortecies = params['frequency']/freq_single_vortex\n",
    "print('estimated number of vortecies', number_vortecies)\n",
    "print('estimated vortex density [1/um^2]', number_vortecies / (np.pi*physical_parameters['radius']**2*1e12))\n",
    "print('estimated a [um]', 1/np.sqrt(number_vortecies / (np.pi*physical_parameters['radius']**2))*1e6)\n",
    "nv = dissipation.calc_nv(params['magnetic_moment'], params['levitation_height'])\n",
    "print('estimated vortex density (nv) [1/um^2]', nv*1e-12)\n",
    "print('estimated a [um]', 1/np.sqrt(nv)*1e6)"
   ]
  },
  {
   "cell_type": "markdown",
   "metadata": {
    "ExecuteTime": {
     "end_time": "2019-02-27T13:55:17.055252Z",
     "start_time": "2019-02-27T13:55:17.008810Z"
    }
   },
   "source": [
    "\n",
    "Damping $\\gamma = (2\\pi)^3  \\frac{\\pi}{2}  \\frac{A_i B_o^2}{m \\eta\\omega_d^2 a^4\\delta^6}$"
   ]
  },
  {
   "cell_type": "code",
   "execution_count": 27,
   "metadata": {
    "ExecuteTime": {
     "end_time": "2019-05-08T18:27:10.834523Z",
     "start_time": "2019-05-08T18:27:10.781511Z"
    }
   },
   "outputs": [
    {
     "data": {
      "text/plain": [
       "3.3333333333333327e-12"
      ]
     },
     "execution_count": 27,
     "metadata": {},
     "output_type": "execute_result"
    }
   ],
   "source": [
    "dissipation.calc_magnetic_moment(1, 1e-6)"
   ]
  },
  {
   "cell_type": "code",
   "execution_count": 28,
   "metadata": {
    "ExecuteTime": {
     "end_time": "2019-05-08T18:27:11.853721Z",
     "start_time": "2019-05-08T18:27:11.803281Z"
    }
   },
   "outputs": [],
   "source": [
    "# radius = np.linspace(0.1, 20, 20)*1e-6\n",
    "# min_dist = thinfilm_superconductor.vortex_creation_minimal_distance(radius=radius)  # minim distance to  create a vortex in mu"
   ]
  },
  {
   "cell_type": "code",
   "execution_count": 29,
   "metadata": {
    "ExecuteTime": {
     "end_time": "2019-05-08T18:27:12.177913Z",
     "start_time": "2019-05-08T18:27:12.128914Z"
    }
   },
   "outputs": [],
   "source": [
    "# plt.loglog(radius*1e6, min_dist*1e6)\n",
    "\n",
    "# plt.xlabel('radius (um)')\n",
    "# plt.ylabel('min distance to create vortex (um)')"
   ]
  },
  {
   "cell_type": "code",
   "execution_count": 30,
   "metadata": {
    "ExecuteTime": {
     "end_time": "2019-05-08T18:27:12.524123Z",
     "start_time": "2019-05-08T18:27:12.487714Z"
    }
   },
   "outputs": [],
   "source": [
    "default_physical_parameters = frozen_dipole_model.default_physical_parameters\n",
    "radius = default_physical_parameters['radius']\n",
    "fluxquantum = default_physical_parameters['fluxquantum']\n",
    "Br = default_physical_parameters['Br']\n",
    "vacuum_permeability = default_physical_parameters['vacuum_permeability']\n",
    "london_penetration_depth = default_physical_parameters['london_penetration_depth']\n",
    "film_thickness = default_physical_parameters['thickness_SC']\n",
    "\n",
    "density = default_physical_parameters['density']\n",
    "\n",
    "L = london_penetration_depth**2 / film_thickness\n",
    "\n",
    "\n",
    "volume = 4 * np.pi / 3 * radius ** 3\n",
    "md = Br*volume/vacuum_permeability\n",
    "mass = density*volume\n",
    "\n",
    "dm = L\n",
    "# dm = 0"
   ]
  },
  {
   "cell_type": "code",
   "execution_count": 31,
   "metadata": {
    "ExecuteTime": {
     "end_time": "2019-05-08T18:27:13.923936Z",
     "start_time": "2019-05-08T18:27:13.871279Z"
    }
   },
   "outputs": [],
   "source": [
    "zo = np.linspace(0.1, 2000, 20)*1e-6\n",
    "zo = np.logspace(-7, -3, 20)\n",
    "\n",
    "\n",
    "kint =3 * fluxquantum/ (2*np.pi) * md  / (zo+dm)**4"
   ]
  },
  {
   "cell_type": "code",
   "execution_count": 32,
   "metadata": {
    "ExecuteTime": {
     "end_time": "2019-05-08T18:27:15.372214Z",
     "start_time": "2019-05-08T18:27:14.404920Z"
    }
   },
   "outputs": [
    {
     "data": {
      "text/plain": [
       "Text(0, 0.5, 'frequency (Hz)')"
      ]
     },
     "execution_count": 32,
     "metadata": {},
     "output_type": "execute_result"
    },
    {
     "data": {
      "image/png": "[encoded data removed]",
      "text/plain": [
       "<Figure size 432x288 with 1 Axes>"
      ]
     },
     "metadata": {
      "needs_background": "light"
     },
     "output_type": "display_data"
    }
   ],
   "source": [
    "plt.loglog(zo, np.sqrt(kint/mass)/(2*np.pi))\n",
    "# plt.loglog(zo, 1e-8/zo**2)\n",
    "\n",
    "plt.xlabel('levitation height (um)')\n",
    "plt.ylabel('frequency (Hz)')"
   ]
  },
  {
   "cell_type": "markdown",
   "metadata": {},
   "source": [
    "### magnetic damping - linear response theory"
   ]
  },
  {
   "cell_type": "code",
   "execution_count": 33,
   "metadata": {
    "ExecuteTime": {
     "end_time": "2019-05-08T18:27:17.248375Z",
     "start_time": "2019-05-08T18:27:17.208214Z"
    }
   },
   "outputs": [
    {
     "data": {
      "text/plain": [
       "45.86510943118172"
      ]
     },
     "execution_count": 33,
     "metadata": {},
     "output_type": "execute_result"
    }
   ],
   "source": [
    "\n",
    "default_physical_parameters = frozen_dipole_model.default_physical_parameters\n",
    "# dissipation.calc_Qm(mass_density, Br, chi_img, levitation_height, radius, frequency)\n",
    "params = get_parameters(default_physical_parameters, selector = 'mag')\n",
    "params['levitation_height'] = 3*params['radius']\n",
    "params['frequency'] = 2*np.pi*1e3\n",
    "1e-6*dissipation.calc_Qm(**params)"
   ]
  },
  {
   "cell_type": "code",
   "execution_count": 34,
   "metadata": {
    "ExecuteTime": {
     "end_time": "2019-05-08T18:27:18.049530Z",
     "start_time": "2019-05-08T18:27:18.011379Z"
    }
   },
   "outputs": [
    {
     "data": {
      "text/plain": [
       "{'Br': 0.73,\n",
       " 'earth_acceleration': 9.84,\n",
       " 'vacuum_permeability': 1.2566370614359173e-06,\n",
       " 'radius': 9.999999999999999e-05,\n",
       " 'density': 7430,\n",
       " 'Pgas': 0.001,\n",
       " 'Tgas': 4,\n",
       " 'mgas': 4.8e-26,\n",
       " 'kB': 1.38065e-23,\n",
       " 'london_penetration_depth': 1e-07,\n",
       " 'thickness_SC': 5e-07,\n",
       " 'fluxquantum': 2.0678e-15,\n",
       " 'eta_bulk': 3.5e-08,\n",
       " 'hbar': 1.0545718e-34,\n",
       " 'chi_m_img': 0.01,\n",
       " 'chi_sc_img': 0.001,\n",
       " 'Sdd': 1e-22,\n",
       " 'flux_depth': 1e-07,\n",
       " 'magnet_orientation': array([1, 0, 0]),\n",
       " 'levitation_height': 0.00019999999999999998,\n",
       " 'temperature': 4,\n",
       " 'mass': 3.112271122156287e-08,\n",
       " 'magnetic_moment': array([2.43333333e-06, 0.00000000e+00, 0.00000000e+00]),\n",
       " 'vortex_lattice_constant': 1.843671144122843e-07,\n",
       " 'Bo': 0.06083333333333333}"
      ]
     },
     "execution_count": 34,
     "metadata": {},
     "output_type": "execute_result"
    }
   ],
   "source": [
    "default_physical_parameters"
   ]
  },
  {
   "cell_type": "code",
   "execution_count": 35,
   "metadata": {
    "ExecuteTime": {
     "end_time": "2019-05-08T18:27:18.539912Z",
     "start_time": "2019-05-08T18:27:18.490210Z"
    }
   },
   "outputs": [
    {
     "data": {
      "text/plain": [
       "238.88077828740484"
      ]
     },
     "execution_count": 35,
     "metadata": {},
     "output_type": "execute_result"
    }
   ],
   "source": [
    "params = get_parameters(default_physical_parameters, selector = 'sc')\n",
    "params['chi_sc_img'] = 0.002\n",
    "params['levitation_height'] = 3*params['radius']\n",
    "params['frequency'] = 2*np.pi*1e3\n",
    "1e-6*dissipation.calc_Qsc(**params)"
   ]
  },
  {
   "cell_type": "code",
   "execution_count": 36,
   "metadata": {
    "ExecuteTime": {
     "end_time": "2019-05-08T18:27:19.124453Z",
     "start_time": "2019-05-08T18:27:19.078582Z"
    }
   },
   "outputs": [
    {
     "data": {
      "text/plain": [
       "{'Br': 0.73,\n",
       " 'radius': 9.999999999999999e-05,\n",
       " 'density': 7430,\n",
       " 'thickness_SC': 5e-07,\n",
       " 'chi_sc_img': 0.002,\n",
       " 'levitation_height': 0.0003,\n",
       " 'frequency': 6283.185307179586}"
      ]
     },
     "execution_count": 36,
     "metadata": {},
     "output_type": "execute_result"
    }
   ],
   "source": [
    "params"
   ]
  },
  {
   "cell_type": "code",
   "execution_count": 37,
   "metadata": {
    "ExecuteTime": {
     "end_time": "2019-05-08T18:27:19.810187Z",
     "start_time": "2019-05-08T18:27:19.763699Z"
    }
   },
   "outputs": [
    {
     "data": {
      "text/plain": [
       "{'Br': 0.73,\n",
       " 'radius': 9.999999999999999e-05,\n",
       " 'density': 7430,\n",
       " 'chi_m_img': 0.01,\n",
       " 'levitation_height': 0.00019999999999999998}"
      ]
     },
     "execution_count": 37,
     "metadata": {},
     "output_type": "execute_result"
    }
   ],
   "source": [
    "default_physical_parameters = frozen_dipole_model.default_physical_parameters\n",
    "default_physical_parameters\n",
    "get_parameters(default_physical_parameters, selector = 'mag')"
   ]
  },
  {
   "cell_type": "code",
   "execution_count": 38,
   "metadata": {
    "ExecuteTime": {
     "end_time": "2019-05-08T18:27:20.390109Z",
     "start_time": "2019-05-08T18:27:20.349475Z"
    }
   },
   "outputs": [
    {
     "data": {
      "text/plain": [
       "15.585454565440392"
      ]
     },
     "execution_count": 38,
     "metadata": {},
     "output_type": "execute_result"
    }
   ],
   "source": [
    "(2*np.pi*100)**4*1e-4*1e-18 * 1e12"
   ]
  },
  {
   "cell_type": "code",
   "execution_count": 39,
   "metadata": {
    "ExecuteTime": {
     "end_time": "2019-05-08T18:27:21.015823Z",
     "start_time": "2019-05-08T18:27:20.969814Z"
    }
   },
   "outputs": [
    {
     "data": {
      "text/plain": [
       "9.999999999999999e-05"
      ]
     },
     "execution_count": 39,
     "metadata": {},
     "output_type": "execute_result"
    }
   ],
   "source": [
    "params['radius']"
   ]
  },
  {
   "cell_type": "markdown",
   "metadata": {
    "ExecuteTime": {
     "end_time": "2019-04-04T14:45:52.480579Z",
     "start_time": "2019-04-04T14:45:52.424834Z"
    }
   },
   "source": [
    "### displacement noise"
   ]
  },
  {
   "cell_type": "code",
   "execution_count": 40,
   "metadata": {
    "ExecuteTime": {
     "end_time": "2019-05-08T18:27:22.765707Z",
     "start_time": "2019-05-08T18:27:22.718080Z"
    }
   },
   "outputs": [
    {
     "data": {
      "text/plain": [
       "{'Br': 0.73,\n",
       " 'earth_acceleration': 9.84,\n",
       " 'vacuum_permeability': 1.2566370614359173e-06,\n",
       " 'radius': 9.999999999999999e-05,\n",
       " 'density': 7430,\n",
       " 'Pgas': 0.001,\n",
       " 'Tgas': 4,\n",
       " 'mgas': 4.8e-26,\n",
       " 'kB': 1.38065e-23,\n",
       " 'london_penetration_depth': 1e-07,\n",
       " 'thickness_SC': 5e-07,\n",
       " 'fluxquantum': 2.0678e-15,\n",
       " 'eta_bulk': 3.5e-08,\n",
       " 'hbar': 1.0545718e-34,\n",
       " 'chi_m_img': 0.01,\n",
       " 'chi_sc_img': 0.001,\n",
       " 'Sdd': 1e-22,\n",
       " 'flux_depth': 1e-07,\n",
       " 'magnet_orientation': array([1, 0, 0]),\n",
       " 'levitation_height': 0.00019999999999999998,\n",
       " 'temperature': 4,\n",
       " 'mass': 3.112271122156287e-08,\n",
       " 'magnetic_moment': array([2.43333333e-06, 0.00000000e+00, 0.00000000e+00]),\n",
       " 'vortex_lattice_constant': 1.843671144122843e-07,\n",
       " 'Bo': 0.06083333333333333}"
      ]
     },
     "execution_count": 40,
     "metadata": {},
     "output_type": "execute_result"
    }
   ],
   "source": [
    "default_physical_parameters"
   ]
  },
  {
   "cell_type": "code",
   "execution_count": 41,
   "metadata": {
    "ExecuteTime": {
     "end_time": "2019-05-08T18:27:23.651975Z",
     "start_time": "2019-05-08T18:27:23.602154Z"
    }
   },
   "outputs": [],
   "source": [
    "default_physical_parameters = frozen_dipole_model.default_physical_parameters\n",
    "# calculate additional parameters\n",
    "physical_parameters = {**default_physical_parameters, **frozen_dipole_model.get_parameters(default_physical_parameters)}\n",
    "params = get_parameters(physical_parameters, selector = 'disp')\n",
    "params['frequency']=1e3\n",
    "# dissipation.gamma_dissplacement(**params)\n",
    "# params"
   ]
  },
  {
   "cell_type": "code",
   "execution_count": 42,
   "metadata": {
    "ExecuteTime": {
     "end_time": "2019-05-08T18:27:24.397347Z",
     "start_time": "2019-05-08T18:27:24.337898Z"
    }
   },
   "outputs": [
    {
     "data": {
      "text/plain": [
       "{'Br': 0.73,\n",
       " 'earth_acceleration': 9.84,\n",
       " 'vacuum_permeability': 1.2566370614359173e-06,\n",
       " 'radius': 9.999999999999999e-05,\n",
       " 'density': 7430,\n",
       " 'Pgas': 0.001,\n",
       " 'Tgas': 4,\n",
       " 'mgas': 4.8e-26,\n",
       " 'kB': 1.38065e-23,\n",
       " 'london_penetration_depth': 1e-07,\n",
       " 'thickness_SC': 5e-07,\n",
       " 'fluxquantum': 2.0678e-15,\n",
       " 'eta_bulk': 3.5e-08,\n",
       " 'hbar': 1.0545718e-34,\n",
       " 'chi_m_img': 0.01,\n",
       " 'chi_sc_img': 0.001,\n",
       " 'Sdd': 1e-22,\n",
       " 'flux_depth': 1e-07,\n",
       " 'magnet_orientation': array([1, 0, 0]),\n",
       " 'levitation_height': 0.00019999999999999998,\n",
       " 'temperature': 4,\n",
       " 'mass': 3.112271122156287e-08,\n",
       " 'magnetic_moment': array([2.43333333e-06, 0.00000000e+00, 0.00000000e+00]),\n",
       " 'vortex_lattice_constant': 1.843671144122843e-07,\n",
       " 'Bo': 0.06083333333333333,\n",
       " 'Us': 2.376323220780444e-10,\n",
       " 'mass_matrix': array([[3.11227112e-08, 0.00000000e+00, 0.00000000e+00, 0.00000000e+00,\n",
       "         0.00000000e+00],\n",
       "        [0.00000000e+00, 3.11227112e-08, 0.00000000e+00, 0.00000000e+00,\n",
       "         0.00000000e+00],\n",
       "        [0.00000000e+00, 0.00000000e+00, 3.11227112e-08, 0.00000000e+00,\n",
       "         0.00000000e+00],\n",
       "        [0.00000000e+00, 0.00000000e+00, 0.00000000e+00, 1.24490845e-16,\n",
       "         0.00000000e+00],\n",
       "        [0.00000000e+00, 0.00000000e+00, 0.00000000e+00, 0.00000000e+00,\n",
       "         1.24490845e-16]]),\n",
       " 'A': array([[1.28874505e+03, 0.00000000e+00, 0.00000000e+00, 0.00000000e+00,\n",
       "         0.00000000e+00],\n",
       "        [0.00000000e+00, 1.28874505e+03, 0.00000000e+00, 0.00000000e+00,\n",
       "         0.00000000e+00],\n",
       "        [0.00000000e+00, 0.00000000e+00, 1.28874505e+03, 0.00000000e+00,\n",
       "         0.00000000e+00],\n",
       "        [0.00000000e+00, 0.00000000e+00, 0.00000000e+00, 1.00000000e+00,\n",
       "         0.00000000e+00],\n",
       "        [0.00000000e+00, 0.00000000e+00, 0.00000000e+00, 0.00000000e+00,\n",
       "         1.00000000e+00]]),\n",
       " 'hI': 0.000775948665125031,\n",
       " 'acrit': 0.3625199916944626,\n",
       " 'moment_of_inertia': 1.2449084488625148e-16,\n",
       " 'alpha': 0.0002758468561487818,\n",
       " 'beta_v': 5.597044702045349e-06,\n",
       " 'a': 9.999999999999999e-05}"
      ]
     },
     "execution_count": 42,
     "metadata": {},
     "output_type": "execute_result"
    }
   ],
   "source": [
    "physical_parameters"
   ]
  },
  {
   "cell_type": "code",
   "execution_count": 43,
   "metadata": {
    "ExecuteTime": {
     "end_time": "2019-05-08T18:27:26.081183Z",
     "start_time": "2019-05-08T18:27:26.033494Z"
    }
   },
   "outputs": [
    {
     "data": {
      "text/plain": [
       "87.83210837232279"
      ]
     },
     "execution_count": 43,
     "metadata": {},
     "output_type": "execute_result"
    }
   ],
   "source": [
    "if 'Tgas' in params:\n",
    "    del params['Tgas']\n",
    "params['Q'] = 1e6\n",
    "dissipation.temperature_dissplacement(**params)*1e-9"
   ]
  },
  {
   "cell_type": "code",
   "execution_count": 44,
   "metadata": {
    "ExecuteTime": {
     "end_time": "2019-05-08T18:27:26.571889Z",
     "start_time": "2019-05-08T18:27:26.524424Z"
    }
   },
   "outputs": [
    {
     "data": {
      "text/plain": [
       "{'Sdd': 1e-22,\n",
       " 'mass': 3.112271122156287e-08,\n",
       " 'frequency': 1000.0,\n",
       " 'Q': 1000000.0}"
      ]
     },
     "execution_count": 44,
     "metadata": {},
     "output_type": "execute_result"
    }
   ],
   "source": [
    "params"
   ]
  },
  {
   "cell_type": "code",
   "execution_count": 45,
   "metadata": {
    "ExecuteTime": {
     "end_time": "2019-05-08T18:27:27.395357Z",
     "start_time": "2019-05-08T18:27:26.968694Z"
    }
   },
   "outputs": [
    {
     "data": {
      "text/plain": [
       "{'Br': 0.73,\n",
       " 'earth_acceleration': 9.84,\n",
       " 'vacuum_permeability': 1.2566370614359173e-06,\n",
       " 'radius': 9.999999999999999e-05,\n",
       " 'density': 7430,\n",
       " 'Pgas': 0.001,\n",
       " 'Tgas': 4,\n",
       " 'mgas': 4.8e-26,\n",
       " 'kB': 1.38065e-23,\n",
       " 'london_penetration_depth': 1e-07,\n",
       " 'thickness_SC': 5e-07,\n",
       " 'fluxquantum': 2.0678e-15,\n",
       " 'eta_bulk': 3.5e-08,\n",
       " 'hbar': 1.0545718e-34,\n",
       " 'chi_m_img': 0.01,\n",
       " 'chi_sc_img': 0.001,\n",
       " 'Sdd': 1e-22,\n",
       " 'flux_depth': 1e-07,\n",
       " 'magnet_orientation': array([1, 0, 0]),\n",
       " 'levitation_height': 0.00019999999999999998,\n",
       " 'temperature': 4,\n",
       " 'mass': 3.112271122156287e-08,\n",
       " 'magnetic_moment': array([2.43333333e-06, 0.00000000e+00, 0.00000000e+00]),\n",
       " 'vortex_lattice_constant': 1.843671144122843e-07,\n",
       " 'Bo': 0.06083333333333333,\n",
       " 'Us': 2.376323220780444e-10,\n",
       " 'mass_matrix': array([[3.11227112e-08, 0.00000000e+00, 0.00000000e+00, 0.00000000e+00,\n",
       "         0.00000000e+00],\n",
       "        [0.00000000e+00, 3.11227112e-08, 0.00000000e+00, 0.00000000e+00,\n",
       "         0.00000000e+00],\n",
       "        [0.00000000e+00, 0.00000000e+00, 3.11227112e-08, 0.00000000e+00,\n",
       "         0.00000000e+00],\n",
       "        [0.00000000e+00, 0.00000000e+00, 0.00000000e+00, 1.24490845e-16,\n",
       "         0.00000000e+00],\n",
       "        [0.00000000e+00, 0.00000000e+00, 0.00000000e+00, 0.00000000e+00,\n",
       "         1.24490845e-16]]),\n",
       " 'A': array([[1.28874505e+03, 0.00000000e+00, 0.00000000e+00, 0.00000000e+00,\n",
       "         0.00000000e+00],\n",
       "        [0.00000000e+00, 1.28874505e+03, 0.00000000e+00, 0.00000000e+00,\n",
       "         0.00000000e+00],\n",
       "        [0.00000000e+00, 0.00000000e+00, 1.28874505e+03, 0.00000000e+00,\n",
       "         0.00000000e+00],\n",
       "        [0.00000000e+00, 0.00000000e+00, 0.00000000e+00, 1.00000000e+00,\n",
       "         0.00000000e+00],\n",
       "        [0.00000000e+00, 0.00000000e+00, 0.00000000e+00, 0.00000000e+00,\n",
       "         1.00000000e+00]]),\n",
       " 'hI': 0.000775948665125031,\n",
       " 'acrit': 0.3625199916944626,\n",
       " 'moment_of_inertia': 1.2449084488625148e-16,\n",
       " 'alpha': 0.0002758468561487818,\n",
       " 'beta_v': 5.597044702045349e-06,\n",
       " 'a': 9.999999999999999e-05}"
      ]
     },
     "execution_count": 45,
     "metadata": {},
     "output_type": "execute_result"
    }
   ],
   "source": [
    "physical_parameters"
   ]
  },
  {
   "cell_type": "markdown",
   "metadata": {
    "ExecuteTime": {
     "end_time": "2019-02-26T15:34:37.092670Z",
     "start_time": "2019-02-26T15:34:37.068333Z"
    }
   },
   "source": [
    "# plot Q-factors"
   ]
  },
  {
   "cell_type": "code",
   "execution_count": 46,
   "metadata": {
    "ExecuteTime": {
     "end_time": "2019-05-08T18:27:30.151552Z",
     "start_time": "2019-05-08T18:27:30.116107Z"
    }
   },
   "outputs": [],
   "source": [
    "a = np.logspace(-9, -5, 50)"
   ]
  },
  {
   "cell_type": "markdown",
   "metadata": {},
   "source": [
    "## calculate the frequencies"
   ]
  },
  {
   "cell_type": "code",
   "execution_count": 47,
   "metadata": {
    "ExecuteTime": {
     "end_time": "2019-05-08T18:27:32.768270Z",
     "start_time": "2019-05-08T18:27:30.853778Z"
    }
   },
   "outputs": [
    {
     "name": "stdout",
     "output_type": "stream",
     "text": [
      "processed: 25: : 300it [00:01, 199.85it/s]                   \n"
     ]
    }
   ],
   "source": [
    "physical_parameters = frozen_dipole_model.default_physical_parameters\n",
    "normalization = 'a' # choose normalization z hI or acrit (acrit doesn't work so well because of numerics)\n",
    "\n",
    "ho = 3 # in units of radius a\n",
    "to = 0.5 * np.pi\n",
    "radii = np.logspace(-3,2, 25) # range of radii on a log scale\n",
    "# ======== end input ========\n",
    "\n",
    "position_eq, frequencies, eigen_vectors = [], [], []\n",
    "\n",
    "with tqdm(total=len(radii), file=sys.stdout) as pbar:  \n",
    "    for i, a in enumerate(radii):\n",
    "        physical_parameters['radius'] = a*1e-6\n",
    "\n",
    "        pbar.set_description('processed: %d' % (1 + i))\n",
    "        pbar.update(i)\n",
    "        \n",
    "        parameters = frozen_dipole_model.get_parameters(physical_parameters)\n",
    "\n",
    "        ret_dict  = frozen_dipole_model.frequencies(ho=ho, to=to, physical_parameters=physical_parameters,\n",
    "                                                     set_y_phi_zero=True, normalization=normalization)\n",
    "\n",
    "        frequencies.append(ret_dict['eigenfrequencies'])\n",
    "        position_eq.append(ret_dict['position_eq'])\n",
    "        eigen_vectors.append(ret_dict['eigen_vectors'].reshape(-1))\n",
    "\n",
    "    position_eq = np.array(position_eq)\n",
    "    frequencies = np.array(frequencies)"
   ]
  },
  {
   "cell_type": "code",
   "execution_count": 48,
   "metadata": {
    "ExecuteTime": {
     "end_time": "2019-05-08T18:27:34.011431Z",
     "start_time": "2019-05-08T18:27:33.950432Z"
    }
   },
   "outputs": [
    {
     "ename": "TypeError",
     "evalue": "vortex_damping_drag() missing 1 required positional argument: 'frequency'",
     "output_type": "error",
     "traceback": [
      "\u001b[0;31m---------------------------------------------------------------------------\u001b[0m",
      "\u001b[0;31mTypeError\u001b[0m                                 Traceback (most recent call last)",
      "\u001b[0;32m<ipython-input-48-54c5adaa6ff2>\u001b[0m in \u001b[0;36m<module>\u001b[0;34m\u001b[0m\n\u001b[1;32m      1\u001b[0m \u001b[0mparams\u001b[0m \u001b[0;34m=\u001b[0m \u001b[0mget_parameters\u001b[0m\u001b[0;34m(\u001b[0m\u001b[0mphysical_parameters\u001b[0m\u001b[0;34m,\u001b[0m \u001b[0mselector\u001b[0m \u001b[0;34m=\u001b[0m \u001b[0;34m'drag'\u001b[0m\u001b[0;34m)\u001b[0m\u001b[0;34m\u001b[0m\u001b[0;34m\u001b[0m\u001b[0m\n\u001b[0;32m----> 2\u001b[0;31m \u001b[0mgamma\u001b[0m \u001b[0;34m=\u001b[0m \u001b[0mdissipation\u001b[0m\u001b[0;34m.\u001b[0m\u001b[0mvortex_damping_drag\u001b[0m\u001b[0;34m(\u001b[0m\u001b[0;34m**\u001b[0m\u001b[0mparams\u001b[0m\u001b[0;34m)\u001b[0m\u001b[0;34m\u001b[0m\u001b[0;34m\u001b[0m\u001b[0m\n\u001b[0m",
      "\u001b[0;31mTypeError\u001b[0m: vortex_damping_drag() missing 1 required positional argument: 'frequency'"
     ]
    }
   ],
   "source": [
    "params = get_parameters(physical_parameters, selector = 'drag')\n",
    "gamma = dissipation.vortex_damping_drag(**params)"
   ]
  },
  {
   "cell_type": "markdown",
   "metadata": {},
   "source": [
    "## calculate the damping for all sources of dissipation"
   ]
  },
  {
   "cell_type": "markdown",
   "metadata": {
    "ExecuteTime": {
     "end_time": "2019-03-05T15:48:15.713126Z",
     "start_time": "2019-03-05T15:48:15.651260Z"
    }
   },
   "source": []
  },
  {
   "cell_type": "code",
   "execution_count": 49,
   "metadata": {
    "ExecuteTime": {
     "end_time": "2019-05-08T18:27:39.251787Z",
     "start_time": "2019-05-08T18:27:39.181203Z"
    }
   },
   "outputs": [],
   "source": [
    "gamma_gas = []\n",
    "Pgas_mBar = 1e-9 ## gas pressure in mBar\n",
    "mode = 0 # select one of the five eigenmodes\n",
    "verbose= True\n",
    "physical_parameters = dissipation.default_physical_parameters\n",
    "\n",
    "df_dict = {\n",
    "    'frequency':[],\n",
    "    'radius':[],\n",
    "    'gamma_gas':[],\n",
    "    'gamma_jiggle':[],\n",
    "    'gamma_drag':[],\n",
    "    'gamma_mag':[],\n",
    "    'kint':[],\n",
    "    'kp':[],\n",
    "    'a':[],\n",
    "    'delta':[]\n",
    "}\n",
    "\n",
    "for radius, frequency in zip(radii, frequencies):\n",
    "    frequency = frequency[mode]\n",
    "    physical_parameters['radius'] = radius*1e-6  # radius is in um, convert to meters    \n",
    "    physical_parameters['Pgas'] = dissipation.millibar_to_pascals(Pgas_mBar)\n",
    "\n",
    "    df_dict['frequency'].append(frequency)\n",
    "    df_dict['radius'].append(radius)\n",
    "    \n",
    "    # ============================================================\n",
    "    ## calculate the dissipation from the viscous vortex theory\n",
    "    # ============================================================\n",
    "\n",
    "    for selector, damping in zip(['gas', 'jiggle', 'drag'],\n",
    "                       [dissipation.gas_damping,\n",
    "                        dissipation.vortex_damping_jiggle,\n",
    "                        dissipation.vortex_damping_drag]):\n",
    "        # calculate additional quantities based off the physical parameters\n",
    "        params = get_parameters_dict_for_damping(physical_parameters)\n",
    "        params['frequency'] = frequency\n",
    "        \n",
    "        # select the parameters for the dissipation algorithm\n",
    "        params = get_parameters(params,selector = selector)\n",
    "        \n",
    "        \n",
    "        gamma = damping(**params)\n",
    "        if selector == 'jiggle':\n",
    "            gamma = gamma[mode]  # jiggle we get a different damping for each mode\n",
    "        df_dict['gamma_'+selector].append(gamma)\n",
    "        \n",
    "        \n",
    "    # calculate some additinoal quantities to see how they evolve as a function of radus\n",
    "    pl = dissipation.calc_pearl_length(params['london_penetration_depth'], params['thickness_SC'])\n",
    "    kint = dissipation.calc_kint(params['levitation_height'], pl, params['vortex_lattice_constant'],\n",
    "                                 params['magnetic_moment'])\n",
    "#         print(len(kint))\n",
    "    df_dict['kint'].append(kint)\n",
    "    a = params['vortex_lattice_constant']\n",
    "    df_dict['a'].append(a)\n",
    "    \n",
    "    delta = 2*np.pi * (params['levitation_height']+pl)/a\n",
    "    df_dict['delta'].append(delta)\n",
    "    \n",
    "    kp = dissipation.calc_kp(pl, a)\n",
    "    df_dict['kp'].append(kp)\n",
    "    \n",
    "    # ============================================================\n",
    "    ## calculate the dissipation from the linear response theory\n",
    "    # ============================================================\n",
    "    for selector, damping in zip(['mag'],\n",
    "                       [dissipation.calc_Qm]):\n",
    "        # calculate additional quantities based off the physical parameters\n",
    "        params = get_parameters_dict_for_damping(physical_parameters)\n",
    "        params['frequency'] = frequency\n",
    "        \n",
    "        # select the parameters for the dissipation algorithm\n",
    "        params = get_parameters(params,selector = selector)\n",
    "        \n",
    "        \n",
    "        Q = damping(**params)\n",
    "        df_dict['gamma_'+selector].append(2*np.pi*frequency/Q)\n",
    "        \n"
   ]
  },
  {
   "cell_type": "code",
   "execution_count": 50,
   "metadata": {
    "ExecuteTime": {
     "end_time": "2019-05-08T18:27:40.618225Z",
     "start_time": "2019-05-08T18:27:40.539008Z"
    }
   },
   "outputs": [
    {
     "data": {
      "text/html": [
       "<div>\n",
       "<style scoped>\n",
       "    .dataframe tbody tr th:only-of-type {\n",
       "        vertical-align: middle;\n",
       "    }\n",
       "\n",
       "    .dataframe tbody tr th {\n",
       "        vertical-align: top;\n",
       "    }\n",
       "\n",
       "    .dataframe thead th {\n",
       "        text-align: right;\n",
       "    }\n",
       "</style>\n",
       "<table border=\"1\" class=\"dataframe\">\n",
       "  <thead>\n",
       "    <tr style=\"text-align: right;\">\n",
       "      <th></th>\n",
       "      <th>frequency</th>\n",
       "      <th>radius</th>\n",
       "      <th>gamma_gas</th>\n",
       "      <th>gamma_jiggle</th>\n",
       "      <th>gamma_drag</th>\n",
       "      <th>gamma_mag</th>\n",
       "      <th>kint</th>\n",
       "      <th>kp</th>\n",
       "      <th>a</th>\n",
       "      <th>delta</th>\n",
       "    </tr>\n",
       "  </thead>\n",
       "  <tbody>\n",
       "    <tr>\n",
       "      <th>0</th>\n",
       "      <td>1.648986e+07</td>\n",
       "      <td>0.001000</td>\n",
       "      <td>5.883718e-04</td>\n",
       "      <td>1.320079e+00</td>\n",
       "      <td>1.893651e+06</td>\n",
       "      <td>84056.287699</td>\n",
       "      <td>0.000010</td>\n",
       "      <td>0.002503</td>\n",
       "      <td>1.843671e-07</td>\n",
       "      <td>0.749755</td>\n",
       "    </tr>\n",
       "    <tr>\n",
       "      <th>1</th>\n",
       "      <td>1.020666e+07</td>\n",
       "      <td>0.001616</td>\n",
       "      <td>3.641821e-04</td>\n",
       "      <td>4.015195e+00</td>\n",
       "      <td>8.184740e+06</td>\n",
       "      <td>52027.965162</td>\n",
       "      <td>0.000035</td>\n",
       "      <td>0.002503</td>\n",
       "      <td>1.843671e-07</td>\n",
       "      <td>0.791713</td>\n",
       "    </tr>\n",
       "    <tr>\n",
       "      <th>2</th>\n",
       "      <td>6.317576e+06</td>\n",
       "      <td>0.002610</td>\n",
       "      <td>2.254162e-04</td>\n",
       "      <td>1.034268e+01</td>\n",
       "      <td>2.735253e+07</td>\n",
       "      <td>32203.525602</td>\n",
       "      <td>0.000106</td>\n",
       "      <td>0.002503</td>\n",
       "      <td>1.843671e-07</td>\n",
       "      <td>0.859502</td>\n",
       "    </tr>\n",
       "    <tr>\n",
       "      <th>3</th>\n",
       "      <td>3.910365e+06</td>\n",
       "      <td>0.004217</td>\n",
       "      <td>1.395250e-04</td>\n",
       "      <td>2.123805e+01</td>\n",
       "      <td>6.291975e+07</td>\n",
       "      <td>19932.876226</td>\n",
       "      <td>0.000276</td>\n",
       "      <td>0.002503</td>\n",
       "      <td>1.843671e-07</td>\n",
       "      <td>0.969021</td>\n",
       "    </tr>\n",
       "    <tr>\n",
       "      <th>4</th>\n",
       "      <td>2.420383e+06</td>\n",
       "      <td>0.006813</td>\n",
       "      <td>8.636118e-05</td>\n",
       "      <td>3.274139e+01</td>\n",
       "      <td>9.018274e+07</td>\n",
       "      <td>12337.763307</td>\n",
       "      <td>0.000594</td>\n",
       "      <td>0.002503</td>\n",
       "      <td>1.843671e-07</td>\n",
       "      <td>1.145960</td>\n",
       "    </tr>\n",
       "    <tr>\n",
       "      <th>5</th>\n",
       "      <td>1.498136e+06</td>\n",
       "      <td>0.011007</td>\n",
       "      <td>5.345462e-05</td>\n",
       "      <td>3.628934e+01</td>\n",
       "      <td>7.957663e+07</td>\n",
       "      <td>7636.647842</td>\n",
       "      <td>0.001028</td>\n",
       "      <td>0.002503</td>\n",
       "      <td>1.843671e-07</td>\n",
       "      <td>1.431823</td>\n",
       "    </tr>\n",
       "    <tr>\n",
       "      <th>6</th>\n",
       "      <td>9.272959e+05</td>\n",
       "      <td>0.017783</td>\n",
       "      <td>3.308658e-05</td>\n",
       "      <td>2.859569e+01</td>\n",
       "      <td>4.699313e+07</td>\n",
       "      <td>4726.818097</td>\n",
       "      <td>0.001417</td>\n",
       "      <td>0.002503</td>\n",
       "      <td>1.843671e-07</td>\n",
       "      <td>1.893661</td>\n",
       "    </tr>\n",
       "    <tr>\n",
       "      <th>7</th>\n",
       "      <td>5.739656e+05</td>\n",
       "      <td>0.028730</td>\n",
       "      <td>2.047946e-05</td>\n",
       "      <td>1.643166e+01</td>\n",
       "      <td>2.066920e+07</td>\n",
       "      <td>2925.733071</td>\n",
       "      <td>0.001583</td>\n",
       "      <td>0.002503</td>\n",
       "      <td>1.843671e-07</td>\n",
       "      <td>2.639807</td>\n",
       "    </tr>\n",
       "    <tr>\n",
       "      <th>8</th>\n",
       "      <td>3.552662e+05</td>\n",
       "      <td>0.046416</td>\n",
       "      <td>1.267609e-05</td>\n",
       "      <td>7.253498e+00</td>\n",
       "      <td>7.301174e+06</td>\n",
       "      <td>1810.922947</td>\n",
       "      <td>0.001482</td>\n",
       "      <td>0.002503</td>\n",
       "      <td>1.843671e-07</td>\n",
       "      <td>3.845279</td>\n",
       "    </tr>\n",
       "    <tr>\n",
       "      <th>9</th>\n",
       "      <td>2.198988e+05</td>\n",
       "      <td>0.074989</td>\n",
       "      <td>7.846065e-06</td>\n",
       "      <td>2.616778e+00</td>\n",
       "      <td>2.155999e+06</td>\n",
       "      <td>1120.893555</td>\n",
       "      <td>0.001214</td>\n",
       "      <td>0.002503</td>\n",
       "      <td>1.843671e-07</td>\n",
       "      <td>5.792837</td>\n",
       "    </tr>\n",
       "    <tr>\n",
       "      <th>10</th>\n",
       "      <td>1.361110e+05</td>\n",
       "      <td>0.121153</td>\n",
       "      <td>4.856446e-06</td>\n",
       "      <td>8.171304e-01</td>\n",
       "      <td>5.440372e+05</td>\n",
       "      <td>693.788958</td>\n",
       "      <td>0.000902</td>\n",
       "      <td>0.002503</td>\n",
       "      <td>1.843671e-07</td>\n",
       "      <td>8.939307</td>\n",
       "    </tr>\n",
       "    <tr>\n",
       "      <th>11</th>\n",
       "      <td>8.424920e+04</td>\n",
       "      <td>0.195734</td>\n",
       "      <td>3.005974e-06</td>\n",
       "      <td>2.312690e-01</td>\n",
       "      <td>1.195577e+05</td>\n",
       "      <td>429.425812</td>\n",
       "      <td>0.000629</td>\n",
       "      <td>0.002503</td>\n",
       "      <td>1.843671e-07</td>\n",
       "      <td>14.022739</td>\n",
       "    </tr>\n",
       "    <tr>\n",
       "      <th>12</th>\n",
       "      <td>5.214852e+04</td>\n",
       "      <td>0.316228</td>\n",
       "      <td>1.860595e-06</td>\n",
       "      <td>6.135226e-02</td>\n",
       "      <td>2.340305e+04</td>\n",
       "      <td>265.794066</td>\n",
       "      <td>0.000419</td>\n",
       "      <td>0.002503</td>\n",
       "      <td>1.843671e-07</td>\n",
       "      <td>22.235522</td>\n",
       "    </tr>\n",
       "    <tr>\n",
       "      <th>13</th>\n",
       "      <td>3.227929e+04</td>\n",
       "      <td>0.510897</td>\n",
       "      <td>1.151645e-06</td>\n",
       "      <td>1.561152e-02</td>\n",
       "      <td>4.184665e+03</td>\n",
       "      <td>164.511607</td>\n",
       "      <td>0.000272</td>\n",
       "      <td>0.002503</td>\n",
       "      <td>1.843671e-07</td>\n",
       "      <td>35.504078</td>\n",
       "    </tr>\n",
       "    <tr>\n",
       "      <th>14</th>\n",
       "      <td>1.998092e+04</td>\n",
       "      <td>0.825404</td>\n",
       "      <td>7.128288e-07</td>\n",
       "      <td>3.868799e-03</td>\n",
       "      <td>7.002364e+02</td>\n",
       "      <td>101.821231</td>\n",
       "      <td>0.000173</td>\n",
       "      <td>0.002503</td>\n",
       "      <td>1.843671e-07</td>\n",
       "      <td>56.940733</td>\n",
       "    </tr>\n",
       "    <tr>\n",
       "      <th>15</th>\n",
       "      <td>1.236865e+04</td>\n",
       "      <td>1.333521</td>\n",
       "      <td>4.412166e-07</td>\n",
       "      <td>9.429496e-04</td>\n",
       "      <td>1.118938e+02</td>\n",
       "      <td>63.018032</td>\n",
       "      <td>0.000109</td>\n",
       "      <td>0.002503</td>\n",
       "      <td>1.843671e-07</td>\n",
       "      <td>91.573751</td>\n",
       "    </tr>\n",
       "    <tr>\n",
       "      <th>16</th>\n",
       "      <td>7.656917e+03</td>\n",
       "      <td>2.154435</td>\n",
       "      <td>2.730980e-07</td>\n",
       "      <td>2.274517e-04</td>\n",
       "      <td>1.733699e+01</td>\n",
       "      <td>39.000182</td>\n",
       "      <td>0.000068</td>\n",
       "      <td>0.002503</td>\n",
       "      <td>1.843671e-07</td>\n",
       "      <td>147.526790</td>\n",
       "    </tr>\n",
       "    <tr>\n",
       "      <th>17</th>\n",
       "      <td>4.740513e+03</td>\n",
       "      <td>3.480701</td>\n",
       "      <td>1.690383e-07</td>\n",
       "      <td>5.451054e-05</td>\n",
       "      <td>2.632737e+00</td>\n",
       "      <td>24.133959</td>\n",
       "      <td>0.000043</td>\n",
       "      <td>0.002503</td>\n",
       "      <td>1.843671e-07</td>\n",
       "      <td>237.924412</td>\n",
       "    </tr>\n",
       "    <tr>\n",
       "      <th>18</th>\n",
       "      <td>2.935357e+03</td>\n",
       "      <td>5.623413</td>\n",
       "      <td>1.046290e-07</td>\n",
       "      <td>1.301147e-05</td>\n",
       "      <td>3.946602e-01</td>\n",
       "      <td>14.932285</td>\n",
       "      <td>0.000027</td>\n",
       "      <td>0.002503</td>\n",
       "      <td>1.843671e-07</td>\n",
       "      <td>383.970639</td>\n",
       "    </tr>\n",
       "    <tr>\n",
       "      <th>19</th>\n",
       "      <td>1.818026e+03</td>\n",
       "      <td>9.085176</td>\n",
       "      <td>6.476175e-08</td>\n",
       "      <td>3.098058e-06</td>\n",
       "      <td>5.867181e-02</td>\n",
       "      <td>9.236779</td>\n",
       "      <td>0.000016</td>\n",
       "      <td>0.002503</td>\n",
       "      <td>1.843671e-07</td>\n",
       "      <td>619.922646</td>\n",
       "    </tr>\n",
       "    <tr>\n",
       "      <th>20</th>\n",
       "      <td>1.126433e+03</td>\n",
       "      <td>14.677993</td>\n",
       "      <td>4.008531e-08</td>\n",
       "      <td>7.365147e-07</td>\n",
       "      <td>8.675054e-03</td>\n",
       "      <td>5.711481</td>\n",
       "      <td>0.000010</td>\n",
       "      <td>0.002503</td>\n",
       "      <td>1.843671e-07</td>\n",
       "      <td>1001.126259</td>\n",
       "    </tr>\n",
       "    <tr>\n",
       "      <th>21</th>\n",
       "      <td>6.983553e+02</td>\n",
       "      <td>23.713737</td>\n",
       "      <td>2.481143e-08</td>\n",
       "      <td>1.749273e-07</td>\n",
       "      <td>1.277845e-03</td>\n",
       "      <td>3.529481</td>\n",
       "      <td>0.000006</td>\n",
       "      <td>0.002503</td>\n",
       "      <td>1.843671e-07</td>\n",
       "      <td>1616.998092</td>\n",
       "    </tr>\n",
       "    <tr>\n",
       "      <th>22</th>\n",
       "      <td>4.333824e+02</td>\n",
       "      <td>38.311868</td>\n",
       "      <td>1.535743e-08</td>\n",
       "      <td>4.152179e-08</td>\n",
       "      <td>1.876758e-04</td>\n",
       "      <td>2.178960</td>\n",
       "      <td>0.000004</td>\n",
       "      <td>0.002503</td>\n",
       "      <td>1.843671e-07</td>\n",
       "      <td>2611.999454</td>\n",
       "    </tr>\n",
       "    <tr>\n",
       "      <th>23</th>\n",
       "      <td>2.693610e+02</td>\n",
       "      <td>61.896582</td>\n",
       "      <td>9.505724e-09</td>\n",
       "      <td>9.852244e-09</td>\n",
       "      <td>2.748782e-05</td>\n",
       "      <td>1.343133</td>\n",
       "      <td>0.000002</td>\n",
       "      <td>0.002503</td>\n",
       "      <td>1.843671e-07</td>\n",
       "      <td>4219.521762</td>\n",
       "    </tr>\n",
       "    <tr>\n",
       "      <th>24</th>\n",
       "      <td>1.678185e+02</td>\n",
       "      <td>100.000000</td>\n",
       "      <td>5.883718e-09</td>\n",
       "      <td>2.337198e-09</td>\n",
       "      <td>4.013308e-06</td>\n",
       "      <td>0.825938</td>\n",
       "      <td>0.000002</td>\n",
       "      <td>0.002503</td>\n",
       "      <td>1.843671e-07</td>\n",
       "      <td>6816.631747</td>\n",
       "    </tr>\n",
       "  </tbody>\n",
       "</table>\n",
       "</div>"
      ],
      "text/plain": [
       "       frequency      radius     gamma_gas  gamma_jiggle    gamma_drag  \\\n",
       "0   1.648986e+07    0.001000  5.883718e-04  1.320079e+00  1.893651e+06   \n",
       "1   1.020666e+07    0.001616  3.641821e-04  4.015195e+00  8.184740e+06   \n",
       "2   6.317576e+06    0.002610  2.254162e-04  1.034268e+01  2.735253e+07   \n",
       "3   3.910365e+06    0.004217  1.395250e-04  2.123805e+01  6.291975e+07   \n",
       "4   2.420383e+06    0.006813  8.636118e-05  3.274139e+01  9.018274e+07   \n",
       "5   1.498136e+06    0.011007  5.345462e-05  3.628934e+01  7.957663e+07   \n",
       "6   9.272959e+05    0.017783  3.308658e-05  2.859569e+01  4.699313e+07   \n",
       "7   5.739656e+05    0.028730  2.047946e-05  1.643166e+01  2.066920e+07   \n",
       "8   3.552662e+05    0.046416  1.267609e-05  7.253498e+00  7.301174e+06   \n",
       "9   2.198988e+05    0.074989  7.846065e-06  2.616778e+00  2.155999e+06   \n",
       "10  1.361110e+05    0.121153  4.856446e-06  8.171304e-01  5.440372e+05   \n",
       "11  8.424920e+04    0.195734  3.005974e-06  2.312690e-01  1.195577e+05   \n",
       "12  5.214852e+04    0.316228  1.860595e-06  6.135226e-02  2.340305e+04   \n",
       "13  3.227929e+04    0.510897  1.151645e-06  1.561152e-02  4.184665e+03   \n",
       "14  1.998092e+04    0.825404  7.128288e-07  3.868799e-03  7.002364e+02   \n",
       "15  1.236865e+04    1.333521  4.412166e-07  9.429496e-04  1.118938e+02   \n",
       "16  7.656917e+03    2.154435  2.730980e-07  2.274517e-04  1.733699e+01   \n",
       "17  4.740513e+03    3.480701  1.690383e-07  5.451054e-05  2.632737e+00   \n",
       "18  2.935357e+03    5.623413  1.046290e-07  1.301147e-05  3.946602e-01   \n",
       "19  1.818026e+03    9.085176  6.476175e-08  3.098058e-06  5.867181e-02   \n",
       "20  1.126433e+03   14.677993  4.008531e-08  7.365147e-07  8.675054e-03   \n",
       "21  6.983553e+02   23.713737  2.481143e-08  1.749273e-07  1.277845e-03   \n",
       "22  4.333824e+02   38.311868  1.535743e-08  4.152179e-08  1.876758e-04   \n",
       "23  2.693610e+02   61.896582  9.505724e-09  9.852244e-09  2.748782e-05   \n",
       "24  1.678185e+02  100.000000  5.883718e-09  2.337198e-09  4.013308e-06   \n",
       "\n",
       "       gamma_mag      kint        kp             a        delta  \n",
       "0   84056.287699  0.000010  0.002503  1.843671e-07     0.749755  \n",
       "1   52027.965162  0.000035  0.002503  1.843671e-07     0.791713  \n",
       "2   32203.525602  0.000106  0.002503  1.843671e-07     0.859502  \n",
       "3   19932.876226  0.000276  0.002503  1.843671e-07     0.969021  \n",
       "4   12337.763307  0.000594  0.002503  1.843671e-07     1.145960  \n",
       "5    7636.647842  0.001028  0.002503  1.843671e-07     1.431823  \n",
       "6    4726.818097  0.001417  0.002503  1.843671e-07     1.893661  \n",
       "7    2925.733071  0.001583  0.002503  1.843671e-07     2.639807  \n",
       "8    1810.922947  0.001482  0.002503  1.843671e-07     3.845279  \n",
       "9    1120.893555  0.001214  0.002503  1.843671e-07     5.792837  \n",
       "10    693.788958  0.000902  0.002503  1.843671e-07     8.939307  \n",
       "11    429.425812  0.000629  0.002503  1.843671e-07    14.022739  \n",
       "12    265.794066  0.000419  0.002503  1.843671e-07    22.235522  \n",
       "13    164.511607  0.000272  0.002503  1.843671e-07    35.504078  \n",
       "14    101.821231  0.000173  0.002503  1.843671e-07    56.940733  \n",
       "15     63.018032  0.000109  0.002503  1.843671e-07    91.573751  \n",
       "16     39.000182  0.000068  0.002503  1.843671e-07   147.526790  \n",
       "17     24.133959  0.000043  0.002503  1.843671e-07   237.924412  \n",
       "18     14.932285  0.000027  0.002503  1.843671e-07   383.970639  \n",
       "19      9.236779  0.000016  0.002503  1.843671e-07   619.922646  \n",
       "20      5.711481  0.000010  0.002503  1.843671e-07  1001.126259  \n",
       "21      3.529481  0.000006  0.002503  1.843671e-07  1616.998092  \n",
       "22      2.178960  0.000004  0.002503  1.843671e-07  2611.999454  \n",
       "23      1.343133  0.000002  0.002503  1.843671e-07  4219.521762  \n",
       "24      0.825938  0.000002  0.002503  1.843671e-07  6816.631747  "
      ]
     },
     "execution_count": 50,
     "metadata": {},
     "output_type": "execute_result"
    }
   ],
   "source": [
    "df = pd.DataFrame.from_dict(df_dict)  # create dataframe\n",
    "df"
   ]
  },
  {
   "cell_type": "code",
   "execution_count": 51,
   "metadata": {
    "ExecuteTime": {
     "end_time": "2019-05-08T18:27:42.165078Z",
     "start_time": "2019-05-08T18:27:42.127809Z"
    }
   },
   "outputs": [
    {
     "data": {
      "text/plain": [
       "3575.0510664815115"
      ]
     },
     "execution_count": 51,
     "metadata": {},
     "output_type": "execute_result"
    }
   ],
   "source": [
    "kp/(pl*default_physical_parameters['eta_bulk'])*1e-9"
   ]
  },
  {
   "cell_type": "code",
   "execution_count": null,
   "metadata": {
    "ExecuteTime": {
     "end_time": "2019-04-07T21:54:22.784912Z",
     "start_time": "2019-04-07T21:54:22.697980Z"
    }
   },
   "outputs": [],
   "source": []
  },
  {
   "cell_type": "code",
   "execution_count": 52,
   "metadata": {
    "ExecuteTime": {
     "end_time": "2019-05-08T18:27:43.950751Z",
     "start_time": "2019-05-08T18:27:42.981621Z"
    }
   },
   "outputs": [
    {
     "data": {
      "text/plain": [
       "[<matplotlib.lines.Line2D at 0x132389dac8>]"
      ]
     },
     "execution_count": 52,
     "metadata": {},
     "output_type": "execute_result"
    },
    {
     "data": {
      "image/png": "[encoded data removed]",
      "text/plain": [
       "<Figure size 432x288 with 1 Axes>"
      ]
     },
     "metadata": {
      "needs_background": "light"
     },
     "output_type": "display_data"
    }
   ],
   "source": [
    "plt.loglog(df.radius, df.kint)"
   ]
  },
  {
   "cell_type": "code",
   "execution_count": null,
   "metadata": {
    "ExecuteTime": {
     "end_time": "2019-03-14T17:52:18.449581Z",
     "start_time": "2019-03-14T17:52:18.368801Z"
    }
   },
   "outputs": [],
   "source": []
  },
  {
   "cell_type": "code",
   "execution_count": 53,
   "metadata": {
    "ExecuteTime": {
     "end_time": "2019-05-08T18:27:45.575226Z",
     "start_time": "2019-05-08T18:27:45.521799Z"
    }
   },
   "outputs": [
    {
     "data": {
      "text/plain": [
       "1.9999999999999997e-08"
      ]
     },
     "execution_count": 53,
     "metadata": {},
     "output_type": "execute_result"
    }
   ],
   "source": [
    "\n",
    "dissipation.calc_pearl_length(frozen_dipole_model.default_physical_parameters['london_penetration_depth'], frozen_dipole_model.default_physical_parameters['thickness_SC'])"
   ]
  },
  {
   "cell_type": "code",
   "execution_count": 54,
   "metadata": {
    "ExecuteTime": {
     "end_time": "2019-05-08T18:27:47.309544Z",
     "start_time": "2019-05-08T18:27:45.884803Z"
    }
   },
   "outputs": [
    {
     "data": {
      "text/plain": [
       "Text(0, 0.5, 'Q')"
      ]
     },
     "execution_count": 54,
     "metadata": {},
     "output_type": "execute_result"
    },
    {
     "data": {
      "image/png": "[encoded data removed]",
      "text/plain": [
       "<Figure size 432x288 with 1 Axes>"
      ]
     },
     "metadata": {
      "needs_background": "light"
     },
     "output_type": "display_data"
    }
   ],
   "source": [
    "\n",
    "# caculate the Q-factors\n",
    "df['Q_gas'] =2*np.pi*df['frequency'] / df['gamma_gas']\n",
    "df['Q_jiggle'] =2*np.pi*df['frequency'] / df['gamma_jiggle']\n",
    "df['Q_drag'] =2*np.pi*df['frequency'] / df['gamma_drag']\n",
    "\n",
    "for Q_label in ['Q_gas', 'Q_jiggle', 'Q_drag']:\n",
    "    plt.loglog(df['radius'], df[Q_label], label = Q_label)\n",
    "    \n",
    "plt.plot(df['radius'], 1e4*df['radius']**3, 'k--', label = '$\\propto a^3$')\n",
    "plt.legend()\n",
    "plt.xlabel('radius ($\\mu m$)')\n",
    "plt.ylabel('Q')"
   ]
  },
  {
   "cell_type": "markdown",
   "metadata": {},
   "source": [
    "# plot for paper"
   ]
  },
  {
   "cell_type": "code",
   "execution_count": 55,
   "metadata": {
    "ExecuteTime": {
     "end_time": "2019-05-08T18:27:51.492830Z",
     "start_time": "2019-05-08T18:27:51.440968Z"
    }
   },
   "outputs": [],
   "source": [
    "paper_fig_path = Path('/Users/rettentulla/Projects/Paper/InProgress/MagneticLevitation/manuscript/figures/')"
   ]
  },
  {
   "cell_type": "markdown",
   "metadata": {},
   "source": [
    "## Q factors with viscous vortex model"
   ]
  },
  {
   "cell_type": "code",
   "execution_count": 56,
   "metadata": {
    "ExecuteTime": {
     "end_time": "2019-05-08T18:27:53.910487Z",
     "start_time": "2019-05-08T18:27:52.051230Z"
    }
   },
   "outputs": [
    {
     "data": {
      "image/png": "[encoded data removed]",
      "text/plain": [
       "<Figure size 576x360 with 2 Axes>"
      ]
     },
     "metadata": {
      "needs_background": "light"
     },
     "output_type": "display_data"
    }
   ],
   "source": [
    "fig, ax = plt.subplots(1,2, figsize= (8,5))\n",
    "for i, f in enumerate(frequencies.T):\n",
    "\n",
    "    ax[0].loglog(radii, f, label = '$f_{:d}$ (Hz)'.format(i))\n",
    "ax[0].set_xlabel('radius a ($\\mu m$)')\n",
    "ax[0].set_ylabel('frequency (Hz)')\n",
    "# plt.title('initial conditions ho={:0.1f}a, to={:0.0f}deg'.format(ho, to/np.pi*180))\n",
    "# ax[0].set_xticks([0.001, 0.01, 0.1, 1, 10, 100])\n",
    "ax[0].set_xticks([0.01, 1, 100])\n",
    "ax[0].set_yticks([1e2, 1e4, 1e6])\n",
    "# ax.xaxis.set_major_formatter(FormatStrFormatter('%0.1f'))\n",
    "ax[0].legend(loc = (0.6, 0.6))\n",
    "\n",
    "\n",
    "\n",
    "# caculate the Q-factors\n",
    "df['Q_gas'] =2*np.pi*df['frequency'] / df['gamma_gas']\n",
    "df['Q_jiggle'] =2*np.pi*df['frequency'] / df['gamma_jiggle']\n",
    "df['Q_drag'] =2*np.pi*df['frequency'] / df['gamma_drag']\n",
    "\n",
    "for Q_label in ['Q_gas', 'Q_jiggle', 'Q_drag']:\n",
    "    ax[1].loglog(df['radius'], df[Q_label], label = Q_label)\n",
    "ax[1].plot(df['radius'], 1e7*df['radius']**2, '--',color='orange', label = '$\\propto a^2$')\n",
    "ax[1].plot(df['radius'], 1e3*df['radius']**3, '--', color='green', label = '$\\propto a^3$')\n",
    "ax[1].legend()\n",
    "ax[1].set_xlabel('radius a ($\\mu m$)')\n",
    "ax[1].set_ylabel('Q')\n",
    "ax[1].set_ylim([1e-2,1e12])\n",
    "# \n",
    "plt.tight_layout()\n",
    "fig.savefig(paper_fig_path/'damping.pdf', transparent=True)"
   ]
  },
  {
   "cell_type": "code",
   "execution_count": 60,
   "metadata": {
    "ExecuteTime": {
     "end_time": "2019-05-08T18:29:34.058564Z",
     "start_time": "2019-05-08T18:29:34.009972Z"
    }
   },
   "outputs": [
    {
     "data": {
      "text/plain": [
       "array([2.72706662e+07, 1.68796131e+07, 1.04479083e+07, 6.46690215e+06,\n",
       "       4.00279567e+06, 2.47759812e+06, 1.53355294e+06, 9.49221152e+05,\n",
       "       5.87539789e+05, 3.63671411e+05, 2.25104528e+05, 1.39336365e+05,\n",
       "       8.62487991e+04, 5.33894118e+04, 3.30505717e+04, 2.04615253e+04,\n",
       "       1.26693346e+04, 7.84623270e+03, 4.86089381e+03, 3.01306508e+03,\n",
       "       1.86931323e+03, 1.16135518e+03, 7.23129798e+02, 4.51846241e+02,\n",
       "       2.83873318e+02])"
      ]
     },
     "execution_count": 60,
     "metadata": {},
     "output_type": "execute_result"
    }
   ],
   "source": [
    "frequencies.T[2]"
   ]
  },
  {
   "cell_type": "markdown",
   "metadata": {},
   "source": [
    "## frequencies and couplings"
   ]
  },
  {
   "cell_type": "markdown",
   "metadata": {},
   "source": [
    "### calclate the frequencies"
   ]
  },
  {
   "cell_type": "code",
   "execution_count": 62,
   "metadata": {
    "ExecuteTime": {
     "end_time": "2019-05-08T18:32:06.342534Z",
     "start_time": "2019-05-08T18:32:06.294630Z"
    }
   },
   "outputs": [
    {
     "data": {
      "text/plain": [
       "array([1.00000000e-03, 1.61559810e-03, 2.61015722e-03, 4.21696503e-03,\n",
       "       6.81292069e-03, 1.10069417e-02, 1.77827941e-02, 2.87298483e-02,\n",
       "       4.64158883e-02, 7.49894209e-02, 1.21152766e-01, 1.95734178e-01,\n",
       "       3.16227766e-01, 5.10896977e-01, 8.25404185e-01, 1.33352143e+00,\n",
       "       2.15443469e+00, 3.48070059e+00, 5.62341325e+00, 9.08517576e+00,\n",
       "       1.46779927e+01, 2.37137371e+01, 3.83118685e+01, 6.18965819e+01,\n",
       "       1.00000000e+02])"
      ]
     },
     "execution_count": 62,
     "metadata": {},
     "output_type": "execute_result"
    }
   ],
   "source": [
    "radii"
   ]
  },
  {
   "cell_type": "code",
   "execution_count": 63,
   "metadata": {
    "ExecuteTime": {
     "end_time": "2019-05-08T18:32:16.716578Z",
     "start_time": "2019-05-08T18:32:14.588949Z"
    }
   },
   "outputs": [
    {
     "name": "stdout",
     "output_type": "stream",
     "text": [
      "processed: 25: : 300it [00:02, 145.18it/s]                   \n"
     ]
    }
   ],
   "source": [
    "physical_parameters = frozen_dipole_model.default_physical_parameters\n",
    "normalization = 'a' # choose normalization z hI or acrit (acrit doesn't work so well because of numerics)\n",
    "\n",
    "ho = 3 # in units of radius a\n",
    "to = 0.5 * np.pi\n",
    "radii = np.logspace(-1,2, 25) # range of radii on a log scale\n",
    "# ======== end input ========\n",
    "\n",
    "position_eq, frequencies, eigen_vectors = [], [], []\n",
    "\n",
    "with tqdm(total=len(radii), file=sys.stdout) as pbar:  \n",
    "    for i, a in enumerate(radii):\n",
    "        physical_parameters['radius'] = a*1e-6\n",
    "\n",
    "        pbar.set_description('processed: %d' % (1 + i))\n",
    "        pbar.update(i)\n",
    "        \n",
    "        parameters = frozen_dipole_model.get_parameters(physical_parameters)\n",
    "\n",
    "        ret_dict  = frozen_dipole_model.frequencies(ho=ho, to=to, physical_parameters=physical_parameters,\n",
    "                                                     set_y_phi_zero=True, normalization=normalization)\n",
    "\n",
    "        frequencies.append(ret_dict['eigenfrequencies'])\n",
    "        position_eq.append(ret_dict['position_eq'])\n",
    "        eigen_vectors.append(ret_dict['eigen_vectors'].reshape(-1))\n",
    "\n",
    "    position_eq = np.array(position_eq)\n",
    "    frequencies = np.array(frequencies)"
   ]
  },
  {
   "cell_type": "markdown",
   "metadata": {},
   "source": [
    "### calculate the couplings"
   ]
  },
  {
   "cell_type": "code",
   "execution_count": 72,
   "metadata": {
    "ExecuteTime": {
     "end_time": "2019-05-08T18:36:20.890712Z",
     "start_time": "2019-05-08T18:36:19.338937Z"
    }
   },
   "outputs": [
    {
     "name": "stdout",
     "output_type": "stream",
     "text": [
      "dipole coupling (1um radius) [2.57236850e+01 2.49395026e+01 2.27559729e+01 1.96111239e+01\n",
      " 1.60483366e+01 1.25507417e+01 9.44447043e+00 6.88380499e+00\n",
      " 4.88928230e+00 3.40181427e+00 2.32885568e+00 1.57437398e+00\n",
      " 1.05404804e+00 7.00466833e-01 4.62868744e-01 3.04553619e-01\n",
      " 1.99737242e-01 1.30674056e-01 8.53330052e-02 5.56468400e-02\n",
      " 3.62501319e-02 2.35959357e-02 1.53499985e-02 9.98129528e-03\n",
      " 6.48815082e-03]\n",
      "gradient coupling (1um radius) in kHz [7.10254827e+00 6.81533175e+00 6.03157171e+00 4.94659775e+00\n",
      " 3.78625609e+00 2.72811374e+00 1.86726848e+00 1.22482684e+00\n",
      " 7.76181766e-01 4.78539086e-01 2.88730981e-01 1.71309122e-01\n",
      " 1.00334546e-01 5.81862077e-02 3.34898928e-02 1.91655654e-02\n",
      " 1.09206549e-02 6.20234303e-03 3.51392649e-03 1.98711939e-03\n",
      " 1.12214610e-03 6.33023096e-04 3.56818803e-04 2.01010691e-04\n",
      " 1.13187343e-04]\n"
     ]
    },
    {
     "data": {
      "text/plain": [
       "<matplotlib.legend.Legend at 0x1323b02ef0>"
      ]
     },
     "execution_count": 72,
     "metadata": {},
     "output_type": "execute_result"
    },
    {
     "data": {
      "image/png": "[encoded data removed]",
      "text/plain": [
       "<Figure size 432x288 with 1 Axes>"
      ]
     },
     "metadata": {
      "needs_background": "light"
     },
     "output_type": "display_data"
    }
   ],
   "source": [
    "hbar = 1.05e-34\n",
    "mu0 = 4*np.pi*1e-7\n",
    "Br = 0.7 # Tesla\n",
    "rho = 7430 # kg/m^3\n",
    "gamma0 =  2 *np.pi * 28.024e9 # Hertz/Tesla\n",
    "# eta = 1/3 #that's the optimal distance for gradient coupling\n",
    "gap = 100e-9 # gap between magnet and NV\n",
    "\n",
    "radius = radii*1e-6\n",
    "\n",
    "# def coupling_dipole(magnetic_moment, r):\n",
    "def coupling_dipole(radius):\n",
    "    Volume = 4*np.pi/3*radius**3\n",
    "    magnetic_moment = Br*Volume / mu0\n",
    "    mass = rho*Volume\n",
    "#     r = (eta+1)*radius\n",
    "    r = radius+gap\n",
    "    omega0 = 2*np.pi*alpha/radius\n",
    "    return np.sqrt(2*magnetic_moment*hbar*gamma0)*gamma0*mu0/(16*np.pi*r**3)\n",
    "\n",
    "\n",
    "\n",
    "def coupling_gradient(radius):\n",
    "    Volume = 4*np.pi/3*radius**3\n",
    "    magnetic_moment = Br*Volume / mu0\n",
    "    mass = rho*Volume\n",
    "#     r = (eta+1)*radius\n",
    "    r = radius+gap\n",
    "    omega0 = 2*np.pi*alpha/radius\n",
    "    rzp = np.sqrt(hbar / (2*mass*omega0))\n",
    "    return 3*rzp*gamma0*mu0*magnetic_moment/(8*np.pi*r**4)\n",
    "\n",
    "plt.loglog(radius*1e6, 1e-3*coupling_dipole(radius)/(2*np.pi), label = '$\\Omega_{dp}/2\\pi$')\n",
    "plt.loglog(radius*1e6, 1e-3*coupling_gradient(radius)/(2*np.pi), label = '$\\Omega_{gr}/2\\pi$')\n",
    "\n",
    "radius_0 = 1e-6\n",
    "plt.loglog(radius_0*1e6, 1e-3*coupling_dipole(radius_0)/(2*np.pi),'o')\n",
    "print('dipole coupling (1um radius)', 1e-3*coupling_dipole(radius)/(2*np.pi))\n",
    "plt.loglog(radius_0*1e6, 1e-3*coupling_gradient(radius_0)/(2*np.pi),'o')\n",
    "print('gradient coupling (1um radius) in kHz', 1e-3*coupling_gradient(radius)/(2*np.pi))\n",
    "plt.xlabel('particle radius um in kHz')\n",
    "plt.ylabel('coupling (kHz)')\n",
    "plt.legend()"
   ]
  },
  {
   "cell_type": "markdown",
   "metadata": {},
   "source": [
    "### plot frequency and coupling"
   ]
  },
  {
   "cell_type": "code",
   "execution_count": 85,
   "metadata": {
    "ExecuteTime": {
     "end_time": "2019-05-08T18:45:17.486091Z",
     "start_time": "2019-05-08T18:45:14.212511Z"
    }
   },
   "outputs": [
    {
     "name": "stdout",
     "output_type": "stream",
     "text": [
      "dipole coupling (1um radius) [2.57236850e+01 2.49395026e+01 2.27559729e+01 1.96111239e+01\n",
      " 1.60483366e+01 1.25507417e+01 9.44447043e+00 6.88380499e+00\n",
      " 4.88928230e+00 3.40181427e+00 2.32885568e+00 1.57437398e+00\n",
      " 1.05404804e+00 7.00466833e-01 4.62868744e-01 3.04553619e-01\n",
      " 1.99737242e-01 1.30674056e-01 8.53330052e-02 5.56468400e-02\n",
      " 3.62501319e-02 2.35959357e-02 1.53499985e-02 9.98129528e-03\n",
      " 6.48815082e-03]\n",
      "gradient coupling (1um radius) in kHz [7.10254827e+00 6.81533175e+00 6.03157171e+00 4.94659775e+00\n",
      " 3.78625609e+00 2.72811374e+00 1.86726848e+00 1.22482684e+00\n",
      " 7.76181766e-01 4.78539086e-01 2.88730981e-01 1.71309122e-01\n",
      " 1.00334546e-01 5.81862077e-02 3.34898928e-02 1.91655654e-02\n",
      " 1.09206549e-02 6.20234303e-03 3.51392649e-03 1.98711939e-03\n",
      " 1.12214610e-03 6.33023096e-04 3.56818803e-04 2.01010691e-04\n",
      " 1.13187343e-04]\n"
     ]
    },
    {
     "data": {
      "image/png": "[encoded data removed]",
      "text/plain": [
       "<Figure size 576x360 with 2 Axes>"
      ]
     },
     "metadata": {
      "needs_background": "light"
     },
     "output_type": "display_data"
    }
   ],
   "source": [
    "fig, ax = plt.subplots(1,2, figsize= (8,5))\n",
    "for i, f in enumerate(frequencies.T):\n",
    "\n",
    "    ax[0].loglog(radii, 1e-3*f, label = '$f_{:d}$ (Hz)'.format(i))\n",
    "    \n",
    "# plot particle 2 frequencies\n",
    "a = 11\n",
    "a = 15.5\n",
    "for freq in [1133.0,1232.0,2815.0]:\n",
    "    ax[0].plot(a, 1e-3*freq, 'ok')\n",
    "ax[0].set_xlabel('radius a ($\\mu m$)')\n",
    "ax[0].set_ylabel('frequency (kHz)')\n",
    "# plt.title('initial conditions ho={:0.1f}a, to={:0.0f}deg'.format(ho, to/np.pi*180))\n",
    "# ax[0].set_xticks([0.001, 0.01, 0.1, 1, 10, 100])\n",
    "ax[0].set_xticks([0.1, 1, 10, 100])\n",
    "ax[0].set_yticks([1e-1, 1e0, 1e1, 1e2, 1e3])\n",
    "# ax.xaxis.set_major_formatter(FormatStrFormatter('%0.1f'))\n",
    "ax[0].legend(loc = (0.6, 0.6))\n",
    "\n",
    "\n",
    "\n",
    "\n",
    "ax[1].loglog(radius*1e6, 1e-3*coupling_dipole(radius)/(2*np.pi), label = '$\\Omega_{dp}/2\\pi$')\n",
    "ax[1].loglog(radius*1e6, 1e-3*coupling_gradient(radius)/(2*np.pi), label = '$\\Omega_{gr}/2\\pi$')\n",
    "\n",
    "radius_0 = 1e-6\n",
    "ax[1].loglog(radius_0*1e6, 1e-3*coupling_dipole(radius_0)/(2*np.pi),'o')\n",
    "print('dipole coupling (1um radius)', 1e-3*coupling_dipole(radius)/(2*np.pi))\n",
    "ax[1].loglog(radius_0*1e6, 1e-3*coupling_gradient(radius_0)/(2*np.pi),'o')\n",
    "print('gradient coupling (1um radius) in kHz', 1e-3*coupling_gradient(radius)/(2*np.pi))\n",
    "ax[1].set_xlabel('radius a ($\\mu m$)')\n",
    "ax[1].set_ylabel('coupling (kHz)')\n",
    "ax[1].legend()\n",
    "\n",
    "# \n",
    "plt.tight_layout()\n",
    "fig.savefig(paper_fig_path/'couplings.pdf', transparent=True)"
   ]
  },
  {
   "cell_type": "code",
   "execution_count": null,
   "metadata": {},
   "outputs": [],
   "source": []
  }
 ],
 "metadata": {
  "hide_input": false,
  "kernelspec": {
   "display_name": "Python [default]",
   "language": "python",
   "name": "python3"
  },
  "language_info": {
   "codemirror_mode": {
    "name": "ipython",
    "version": 3
   },
   "file_extension": ".py",
   "mimetype": "text/x-python",
   "name": "python",
   "nbconvert_exporter": "python",
   "pygments_lexer": "ipython3",
   "version": "3.6.7"
  },
  "toc": {
   "base_numbering": 1,
   "nav_menu": {},
   "number_sections": true,
   "sideBar": true,
   "skip_h1_title": false,
   "title_cell": "Table of Contents",
   "title_sidebar": "Contents",
   "toc_cell": false,
   "toc_position": {
    "height": "calc(100% - 180px)",
    "left": "10px",
    "top": "150px",
    "width": "250.6px"
   },
   "toc_section_display": true,
   "toc_window_display": true
  }
 },
 "nbformat": 4,
 "nbformat_minor": 2
}
