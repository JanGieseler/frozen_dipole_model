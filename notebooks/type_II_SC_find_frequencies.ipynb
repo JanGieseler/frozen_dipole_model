{
 "cells": [
  {
   "cell_type": "code",
   "execution_count": 25,
   "metadata": {},
   "outputs": [
    {
     "data": {
      "text/plain": [
       "'/Applications/anaconda3/bin/python'"
      ]
     },
     "execution_count": 25,
     "metadata": {},
     "output_type": "execute_result"
    }
   ],
   "source": [
    "import sys\n",
    "\n",
    "sys.executable"
   ]
  },
  {
   "cell_type": "code",
   "execution_count": 26,
   "metadata": {},
   "outputs": [
    {
     "name": "stdout",
     "output_type": "stream",
     "text": [
      "The autoreload extension is already loaded. To reload it, use:\n",
      "  %reload_ext autoreload\n"
     ]
    }
   ],
   "source": [
    "import numpy as np\n",
    "# from numpy import cos, sin, pi\n",
    "# from scipy.optimize import minimize, fmin\n",
    "\n",
    "import os\n",
    "package_path = '../'\n",
    "if package_path is not None:\n",
    "    os.sys.path.append(package_path)\n",
    "\n",
    "import matplotlib.pyplot as plt\n",
    "%matplotlib inline\n",
    "\n",
    "\n",
    "# auto reload external files, so that we can edit the external .py file and inmediately see the changes here\n",
    "%load_ext autoreload\n",
    "%autoreload 2\n",
    "\n",
    "\n",
    "from frozen_dipole_model import frozen_dipole_model "
   ]
  },
  {
   "cell_type": "code",
   "execution_count": 27,
   "metadata": {},
   "outputs": [],
   "source": [
    "# import numdifftools as nd\n",
    "\n",
    "# ?nd.Gradient"
   ]
  },
  {
   "cell_type": "code",
   "execution_count": 28,
   "metadata": {},
   "outputs": [
    {
     "name": "stdout",
     "output_type": "stream",
     "text": [
      "{'Br': 0.73, 'earth_acceleration': 9.8, 'vacuum_permeability': 1.2566370614359173e-06, 'radius': 2.25e-05, 'density': 7600}\n"
     ]
    },
    {
     "data": {
      "text/plain": [
       "{'Us': 8.966682075337421e-13,\n",
       " 'mass_matrix': array([[3.62618332e-10, 0.00000000e+00, 0.00000000e+00, 0.00000000e+00,\n",
       "         0.00000000e+00],\n",
       "        [0.00000000e+00, 3.62618332e-10, 0.00000000e+00, 0.00000000e+00,\n",
       "         0.00000000e+00],\n",
       "        [0.00000000e+00, 0.00000000e+00, 3.62618332e-10, 0.00000000e+00,\n",
       "         0.00000000e+00],\n",
       "        [0.00000000e+00, 0.00000000e+00, 0.00000000e+00, 7.34302122e-20,\n",
       "         0.00000000e+00],\n",
       "        [0.00000000e+00, 0.00000000e+00, 0.00000000e+00, 0.00000000e+00,\n",
       "         7.34302122e-20]]),\n",
       " 'A': array([[3.96318239e+03, 0.00000000e+00, 0.00000000e+00, 0.00000000e+00,\n",
       "         0.00000000e+00],\n",
       "        [0.00000000e+00, 3.96318239e+03, 0.00000000e+00, 0.00000000e+00,\n",
       "         0.00000000e+00],\n",
       "        [0.00000000e+00, 0.00000000e+00, 3.96318239e+03, 0.00000000e+00,\n",
       "         0.00000000e+00],\n",
       "        [0.00000000e+00, 0.00000000e+00, 0.00000000e+00, 1.00000000e+00,\n",
       "         0.00000000e+00],\n",
       "        [0.00000000e+00, 0.00000000e+00, 0.00000000e+00, 0.00000000e+00,\n",
       "         1.00000000e+00]]),\n",
       " 'hI': 0.0002523224773438791,\n",
       " 'moment_of_inertia': 7.34302122382219e-20,\n",
       " 'mass': 3.6261833204060193e-10}"
      ]
     },
     "execution_count": 28,
     "metadata": {},
     "output_type": "execute_result"
    }
   ],
   "source": [
    "\n",
    "physical_parameters = frozen_dipole_model.default_physical_parameters\n",
    "print(physical_parameters)\n",
    "\n",
    "frozen_dipole_model.get_parameters(physical_parameters)"
   ]
  },
  {
   "cell_type": "code",
   "execution_count": 29,
   "metadata": {},
   "outputs": [],
   "source": [
    "initial_conditions = [0.2,0.7]"
   ]
  },
  {
   "cell_type": "code",
   "execution_count": 31,
   "metadata": {},
   "outputs": [],
   "source": [
    "W, k = frozen_dipole_model.frequencies(initial_conditions[0], initial_conditions[1], physical_parameters=physical_parameters)"
   ]
  },
  {
   "cell_type": "code",
   "execution_count": 32,
   "metadata": {},
   "outputs": [
    {
     "data": {
      "text/plain": [
       "array([5679.85127554, 9955.31256277,   38.18059534, 4331.68083523,\n",
       "         12.51854685])"
      ]
     },
     "execution_count": 32,
     "metadata": {},
     "output_type": "execute_result"
    }
   ],
   "source": [
    "np.linalg.eigvals(k)"
   ]
  },
  {
   "cell_type": "code",
   "execution_count": 33,
   "metadata": {},
   "outputs": [
    {
     "data": {
      "text/plain": [
       "array([[ 2.17877266e+08, -2.92122565e-01, -4.88662280e+04,\n",
       "        -2.43077204e+07, -1.72322931e-01],\n",
       "       [-2.92122565e-01,  1.67378307e+08,  1.40846372e+00,\n",
       "         2.84376017e-01, -1.19848560e+07],\n",
       "       [-4.88662280e+04,  1.40846372e+00,  3.86275200e+08,\n",
       "         1.20033014e+07, -4.31935296e-02],\n",
       "       [-7.64242323e+09,  8.94087080e+01,  3.77387544e+09,\n",
       "         1.44232335e+09,  1.59448462e-01],\n",
       "       [-5.41788679e+01, -3.76807616e+09, -1.35801806e+01,\n",
       "         1.59448462e-01,  4.23459103e+08]])"
      ]
     },
     "execution_count": 33,
     "metadata": {},
     "output_type": "execute_result"
    }
   ],
   "source": [
    "W"
   ]
  },
  {
   "cell_type": "markdown",
   "metadata": {},
   "source": [
    "## Compare with mathematica"
   ]
  },
  {
   "cell_type": "code",
   "execution_count": 16,
   "metadata": {},
   "outputs": [],
   "source": [
    "position = [0.1, 0.2, 1, 0.4, 2]\n",
    "initial_conditions = [0.1,1]"
   ]
  },
  {
   "cell_type": "markdown",
   "metadata": {},
   "source": [
    "### calcualte the force (gradient) and save to file for mathematica"
   ]
  },
  {
   "cell_type": "code",
   "execution_count": 19,
   "metadata": {},
   "outputs": [
    {
     "name": "stdout",
     "output_type": "stream",
     "text": [
      "Potential energy at initial position: -0.8841521889195141\n",
      "Force (gradient) at initial position: [-10.18102534  -1.12135075  -4.84113504  -1.55415778  -1.43601934]\n",
      "Force (gradient) at initial position (num): [-10.18102534  -1.12135075  -4.84113504  -1.55415778  -1.43424033]\n",
      "equilibrium position: [2.36948681e-06 4.81078919e-10 9.99954441e-02 1.00003900e+00\n",
      " 6.62067405e-10]\n",
      "Potential energy at eq: -430.54219618678115\n",
      "Potential gradient at eq (num): [ 2.78651301e-05 -4.21133459e-05  1.56217570e-05 -5.90772114e-06\n",
      "  1.87486634e-06]\n",
      "Potential gradient at eq: [ 2.78651204e-05 -4.21133891e-05  1.56234000e-05 -5.90772697e-06\n",
      "  2.00740189e-06]\n"
     ]
    },
    {
     "name": "stderr",
     "output_type": "stream",
     "text": [
      "../frozen_dipole_model/frozen_dipole_model.py:42: RuntimeWarning: divide by zero encountered in double_scalars\n",
      "  U = z + (3+cos(2*t))/(6*z**3)-16*(denom_1 + denom_2) / (3*((z+ho)**2+x**2+y**2)**(5/2))\n"
     ]
    }
   ],
   "source": [
    "\n",
    "\n",
    "position_eq = frozen_dipole_model.eq_position(*initial_conditions)\n",
    "\n",
    "force_initial = frozen_dipole_model.force(position, *initial_conditions)\n",
    "force_initial_num = frozen_dipole_model.force_num(position, *initial_conditions)\n",
    "\n",
    "print('Potential energy at initial position:', frozen_dipole_model.potential(position, *initial_conditions))\n",
    "print('Force (gradient) at initial position:', force_initial)\n",
    "print('Force (gradient) at initial position (num):', force_initial_num)\n",
    "\n",
    "print('equilibrium position:', position_eq)\n",
    "print('Potential energy at eq:', frozen_dipole_model.potential(position_eq, *initial_conditions))\n",
    "\n",
    "print('Potential gradient at eq (num):', frozen_dipole_model.force_num(position_eq, *initial_conditions))\n",
    "print('Potential gradient at eq:', frozen_dipole_model.force(position_eq, *initial_conditions))"
   ]
  },
  {
   "cell_type": "code",
   "execution_count": 20,
   "metadata": {},
   "outputs": [],
   "source": [
    "result = list(position)+list(initial_conditions)+list(position_eq)+list(force_initial)+list(force_initial_num)\n",
    "\n",
    "np.savetxt(\"for_mathematica.csv\", result, delimiter=\"\\t\")"
   ]
  },
  {
   "cell_type": "markdown",
   "metadata": {},
   "source": [
    "### Calculate the stiffness matrix and save to file for mathematica"
   ]
  },
  {
   "cell_type": "code",
   "execution_count": 21,
   "metadata": {},
   "outputs": [
    {
     "data": {
      "text/plain": [
       "(array([2.36948681e-06, 4.81078919e-10, 9.99954441e-02, 1.00003900e+00,\n",
       "        6.62067405e-10]), 0.1, 1)"
      ]
     },
     "execution_count": 21,
     "metadata": {},
     "output_type": "execute_result"
    }
   ],
   "source": []
  },
  {
   "cell_type": "code",
   "execution_count": 34,
   "metadata": {},
   "outputs": [
    {
     "name": "stdout",
     "output_type": "stream",
     "text": [
      "adaas [2.36948681e-06 4.81078919e-10 9.99954441e-02 1.00003900e+00\n",
      " 6.62067405e-10]\n",
      "['2.159e+04', '1.797e-05', '7.784e+03', '-1.887e+03', '2.559e-06']\n",
      "['1.797e-05', '1.445e+04', '-1.047e-04', '-7.593e-06', '-1.271e+03']\n",
      "['7.784e+03', '-1.047e-04', '4.808e+05', '7.239e+03', '7.446e-06']\n",
      "['-1.887e+03', '-7.593e-06', '7.239e+03', '5.479e+02', '-3.472e-07']\n",
      "['2.559e-06', '-1.271e+03', '7.446e-06', '-3.472e-07', '1.071e+02']\n"
     ]
    }
   ],
   "source": [
    "k = frozen_dipole_model.stiffness_matrix_num(position_eq, *initial_conditions)\n",
    "\n",
    "np.savetxt(\"for_mathematica_stiffness.csv\", k, delimiter=\",\")\n",
    "print('adaas', position_eq)\n",
    "for y in k:\n",
    "    print(['{:0.3e}'.format(x) for x in y])"
   ]
  },
  {
   "cell_type": "markdown",
   "metadata": {},
   "source": [
    "# other"
   ]
  },
  {
   "cell_type": "code",
   "execution_count": 25,
   "metadata": {},
   "outputs": [],
   "source": [
    "\n",
    "# position = [0, 0, 0.7, 0, 0]\n",
    "# initial_conditions = [0.1, 3]\n",
    "# froze_dipole_model.potential(position, 0.1, 3)\n",
    "\n",
    "# position_eq = froze_dipole_model.eq_position(0.1, 3)\n",
    "\n",
    "# print('Potential energy at initial position:', froze_dipole_model.potential(position, *initial_conditions))\n",
    "# print('equilibrium position:', position_eq)\n",
    "# print('Potential energy at eq:', froze_dipole_model.potential(position_eq, *initial_conditions))\n",
    "\n",
    "# print('Potential gradient at eq:', froze_dipole_model.force_num(position_eq, *initial_conditions))"
   ]
  },
  {
   "cell_type": "code",
   "execution_count": 26,
   "metadata": {},
   "outputs": [
    {
     "name": "stdout",
     "output_type": "stream",
     "text": [
      "x 8.968190922628856e-05\n",
      "y -1.3354629931518635e-09\n",
      "z 0.19987427250511877\n",
      "t 0.7008039270997681\n",
      "p -1.1565698254924806e-08\n"
     ]
    },
    {
     "data": {
      "text/plain": [
       "Text(0,0.5,'U (min max normalized)')"
      ]
     },
     "execution_count": 26,
     "metadata": {},
     "output_type": "execute_result"
    },
    {
     "data": {
      "image/png": "[encoded data removed]",
      "text/plain": [
       "<Figure size 1440x288 with 5 Axes>"
      ]
     },
     "metadata": {},
     "output_type": "display_data"
    }
   ],
   "source": [
    "\n",
    "n = 25\n",
    "dx = 0.0002\n",
    "\n",
    "\n",
    "# initial_conditions = [0.5, 1]\n",
    "# # froze_dipole_model.potential(position, *initial_conditions)\n",
    "# position = [0, 0, initial_conditions[0], initial_conditions[1], 0]\n",
    "\n",
    "\n",
    "\n",
    "fig, ax = plt.subplots(1, 5, figsize = (20,4), sharey=True)\n",
    "for key, value in {'x':0, 'y':1, 'z':2, 't':3, 'p':4}.items():\n",
    "    \n",
    "    position_eq = froze_dipole_model.eq_position(*initial_conditions)\n",
    "    \n",
    "    print(key, position_eq[value])\n",
    "    \n",
    "    if key == 'z':\n",
    "        dx = 1e-3\n",
    "    xmin = position_eq[value]-n*dx\n",
    "    xmax = position_eq[value]+n*dx\n",
    "    \n",
    "    if key in 'xy':\n",
    "        ax[value].set_title('shift {:0.3f}'.format(position_eq[value]))\n",
    "    elif key in 'z':\n",
    "        ax[value].set_title('shift {:0.3f}'.format(position_eq[value]-initial_conditions[0]))\n",
    "    elif key in 't':\n",
    "        ax[value].set_title('rot {:0.3f} deg'.format(180/np.pi*(position_eq[value]-initial_conditions[1])))\n",
    "    elif key in 'p':\n",
    "        ax[value].set_title('rot {:0.3f} deg'.format(180/np.pi*(position_eq[value])))\n",
    "\n",
    "    x = np.arange(xmin, xmax, dx)\n",
    "    y = []\n",
    "    for xo in x:\n",
    "        position_eq[value]=xo\n",
    "        y.append(froze_dipole_model.potential(position_eq, *initial_conditions))\n",
    "    y = np.array(y)\n",
    "    \n",
    "    y -= min(y)\n",
    "    y /= max(y)-min(y)\n",
    "    ax[value].plot(x, y)\n",
    "    ax[value].set_xlabel(key)\n",
    "    \n",
    "ax[0].set_ylabel('U (min max normalized)')"
   ]
  },
  {
   "cell_type": "code",
   "execution_count": 27,
   "metadata": {},
   "outputs": [
    {
     "name": "stdout",
     "output_type": "stream",
     "text": [
      "position_eq [ 8.96819092e-05 -1.33546299e-09  1.99874273e-01  7.00803927e-01\n",
      "  2.39999884e-02]\n"
     ]
    },
    {
     "data": {
      "text/plain": [
       "array([[ 1.42108547e+08, -7.10542736e+07,  7.10542736e+07,\n",
       "         7.10542736e+07, -7.10542736e+07],\n",
       "       [-7.10542736e+07,  7.10542736e+07,  7.10542736e+07,\n",
       "        -7.10542736e+07,  0.00000000e+00],\n",
       "       [ 7.10542736e+07, -7.10542736e+07,  1.42108547e+08,\n",
       "        -7.10542736e+07,  7.10542736e+07],\n",
       "       [ 0.00000000e+00,  1.42108547e+08,  1.06581410e+08,\n",
       "         0.00000000e+00,  0.00000000e+00],\n",
       "       [ 0.00000000e+00, -7.10542736e+07,  7.10542736e+07,\n",
       "        -7.10542736e+07,  7.10542736e+07]])"
      ]
     },
     "execution_count": 27,
     "metadata": {},
     "output_type": "execute_result"
    }
   ],
   "source": [
    "froze_dipole_model.stiffness_matrix_num(position_eq, *initial_conditions, dx=1e-11)"
   ]
  },
  {
   "cell_type": "code",
   "execution_count": 31,
   "metadata": {},
   "outputs": [
    {
     "data": {
      "text/plain": [
       "[0.09094947017729282,\n",
       " -7.406697477563285,\n",
       " -0.07247535904753022,\n",
       " 0.012079226507921703,\n",
       " 0.8327560863108374]"
      ]
     },
     "execution_count": 31,
     "metadata": {},
     "output_type": "execute_result"
    }
   ],
   "source": [
    "froze_dipole_model.force_num(position_eq, *initial_conditions, dx=1e-11)"
   ]
  },
  {
   "cell_type": "code",
   "execution_count": 32,
   "metadata": {},
   "outputs": [
    {
     "data": {
      "text/plain": [
       "array([ 0.08883662, -7.40512436, -0.07493505,  0.0118374 ,  0.83218956])"
      ]
     },
     "execution_count": 32,
     "metadata": {},
     "output_type": "execute_result"
    }
   ],
   "source": [
    "froze_dipole_model.force(position_eq, *initial_conditions)"
   ]
  },
  {
   "cell_type": "code",
   "execution_count": 48,
   "metadata": {},
   "outputs": [
    {
     "data": {
      "text/plain": [
       "array([-9.57608265e-06,  1.72852951e-01, -3.76556671e-05,  8.81307557e-05,\n",
       "       -5.12925374e+00])"
      ]
     },
     "execution_count": 48,
     "metadata": {},
     "output_type": "execute_result"
    }
   ],
   "source": [
    "froze_dipole_model.force(position_eq, *initial_conditions)-froze_dipole_model.force_num(position_eq, *initial_conditions, dx=1e-11)"
   ]
  },
  {
   "cell_type": "code",
   "execution_count": 22,
   "metadata": {},
   "outputs": [],
   "source": [
    "# def type_II_superconductor_potential(position, ho, to):\n",
    "#     if len(position)==5:\n",
    "#         x, y, z, t, p = position ## positions xyz and orientation theta and phi\n",
    "#     if len(position)==4:\n",
    "#         x, y, z, t = position ## positions xyz and orientation theta and phi\n",
    "#         p=0\n",
    "#     if len(position)==3:\n",
    "#         x, y, z = position ## positions xyz\n",
    "#         t, p = 0,0 # x, y, z, t = position ## positions xyz and orientation theta and phi\n",
    "# #     ho, to = initial_consitions ## initial position height ho and angle theta (xy and phi initial are 0 due to symmetry)\n",
    "    \n",
    "#     denom_1 = cos(t)*((2*(ho+z)**2 - x**2 - y**2)*cos(to) - 3*x*(ho + z)*sin(to))\n",
    "#     denom_2 = sin(t)*(3*(ho+z)*cos(to)*(x*cos(p)+y*sin(p))+sin(to)*(( (ho+z)**2 - 2*x**2+y**2)*cos(p) - 3*x*y*sin(p)) )\n",
    "    \n",
    "#     return z + (3+cos(2*t))/(6*z**3)-16*(denom_1+ denom_2) / (3*((z+ho)**2+x**2+y**2))**(5/2)\n",
    "    \n",
    "    \n",
    "    \n",
    "# def type_II_superconductor_eq_position(initial_conditions):\n",
    "#     ho, to = initial_conditions ## initial position height ho and angle theta (xy and phi initial are 0 due to symmetry)\n",
    "\n",
    "#     x0 = (0, 0, ho, to, 0)\n",
    "# #     x0 = (0, 0, 0, to)\n",
    "# #     x0 = (0, 0, 0)\n",
    "    \n",
    "#     bounds = [(-1,1), (-1,1), (-ho, 1000), (0, pi), (-pi, pi)]\n",
    "# #     bounds = [(-1,1), (-1,1), (-ho, 1000), (0, pi)]\n",
    "# #     bounds = [(-1,1), (-1,1), (-ho, 1000)]\n",
    "# #     res = minimize(type_II_superconductor_potential, x0, args=initial_conditions, jac=type_II_superconductor_force, tol=1e-6, bounds = bounds, options = {'disp':True})\n",
    "#     res = fmin(type_II_superconductor_potential, x0, args=initial_conditions, xtol=1e-6,ftol=1e-17, disp=True, maxiter=1000)\n",
    "    \n",
    "#     return res\n",
    "\n",
    "\n",
    "# def type_II_superconductor_force_num(position, ho, to):\n",
    "    \n",
    "#     x, y, z, t, p = position ## positions xyz and orientation theta and phi\n",
    "    \n",
    "#     fx = num_diff(position, ho, to, 'x', dx=1e-9)\n",
    "#     fy = num_diff(position, ho, to, 'y', dx=1e-9)\n",
    "#     fz = num_diff(position, ho, to, 'z', dx=1e-9)\n",
    "#     ft = num_diff(position, ho, to, 't', dx=1e-9)\n",
    "#     fp = num_diff(position, ho, to, 'p', dx=1e-9)\n",
    "    \n",
    "#     return fx, fy, fz, ft, fp\n",
    "    \n",
    "    \n",
    "# def type_II_superconductor_force(position, ho, to):\n",
    "#     \"\"\"\n",
    "    \n",
    "#     check with mathematica, numerical differentiation doesn't give good result (not sure if there is a bug in the coding or if it is due to numerical uncertainty)\n",
    "    \n",
    "#     \"\"\"\n",
    "    \n",
    "#     x, y, z, t, p = position ## positions xyz and orientation theta and phi\n",
    "    \n",
    "#     denom1 = 3*cos(t)*(x*(x**2 + y**2 - 4*(ho + z)**2)*cos(to) - (ho + z)*(-4*x**2 + y**2 + (ho + z)**2)*sin(to))\n",
    "#     denom2 = 3*sin(t)*(\n",
    "#         (ho + z)*cos(to)*((-4*x**2 + y**2 + (ho + z)**2)*cos(p) - 5*x*y*sin(p))\n",
    "#         + sin(to)*(x*(2*x**2 - 3*y**2 - 3*(ho + z)**2)*cos(p) - y*(-4*x**2 + y**2 + (ho + z)**2)*sin(p)))\n",
    "#     denom = 16 * (denom1 + denom2)\n",
    "#     fx = - denom / (3 * (x**2 + y**2 + (ho + z)**2)**(7/2))\n",
    "    \n",
    "#     denom1 =-y*cos(t)*((x**2 + y**2 - 4*(ho + z)**2)*cos(to) + 5*x*(ho + z)*sin(to))\n",
    "#     denom2 =   sin(t)*(y*cos(p)*(5*x*(ho + z)*cos(to) + (-4*x**2 + y**2 + (ho + z)**2)*sin(to)) - (x**2 - 4*y**2 + (ho + z)**2)*((ho + z)*cos(to) - x*sin(to))*sin(p))\n",
    "#     denom = denom1 + denom2\n",
    "#     fy = denom / ((x**2 + y**2 + (ho + z)**2)**(7/2))\n",
    "    \n",
    "#     t1 = 1 - 3/(2*z**4) -  cos(2*t)/(2*z**4)\n",
    "#     denom1 = cos(t)*((ho + z)*(-3*(x**2 + y**2) + 2*(ho + z)**2)*cos(to) + x*(x**2 + y**2 - 4*(ho + z)**2)*sin(to))\n",
    "#     denom2 = sin(t)*(-(x**2 + y**2 -4*(ho + z)**2)*cos(to)*(x*cos(p) +y*sin(p)) + (ho +z)*sin(to)*((-4*x**2 + y**2 + (ho + z)**2)*cos(p) -5*x*y*(sin(p))))\n",
    "#     t2 = 16/(x**2 + y**2 + (ho + z)**2)**(7/2)*(denom1 + denom2)\n",
    "#     fz = t1 + t2\n",
    "\n",
    "#     t1 = -(sin(2*t)/(3*z**3))\n",
    "#     denom1 = sin(t)*((x**2 + y**2 - 2*(ho + z)**2)*cos(to) + 3*x*(ho + z)*sin(to))\n",
    "#     denom2 = cos(t)*(3*(ho + z)*cos(to)*(x*cos(p) + y*sin(p)) + sin(to)*((-2*x**2 + y**2 + (ho + z)**2)*cos(p) - 3*x*y*sin(p)))\n",
    "#     t2 = -16/(3*(x**2 + y**2 + (ho + z)**2)**(5/2))*(denom1 + denom2)\n",
    "#     ft = t1 + t2\n",
    "\n",
    "#     denom = sin(t)*(-3*(ho + z)*cos(to)*(y*cos(p) -x*sin(p)) + sin(to)*(3*x*y*cos(p) + (-2*x**2 + y**2 + (ho + z)**2*sin(p))))\n",
    "#     fp = 16/(3*(x**2 + y**2 + (ho + z)**2)**(5/2)) * denom1\n",
    "\n",
    "#     return np.array([fx, fy, fz, ft, fp])\n",
    "\n",
    "# def num_diff(position, ho, to, x, dx=1e-5):\n",
    "    \n",
    "#     x_to_num = {'x':0,'y':1, 'z':2, 't':3, 'p':4}\n",
    "#     if isinstance(x, str):\n",
    "#         x = x_to_num[x]\n",
    "#     p1 = np.array(position)\n",
    "#     p1[x] -= dx\n",
    "    \n",
    "#     p2 = np.array(position)\n",
    "#     p2[x] += dx\n",
    "    \n",
    "# #     print(p1)\n",
    "# #     print(p2)\n",
    "    \n",
    "#     x1 = type_II_superconductor_potential(p1, ho, to)\n",
    "#     x2 = type_II_superconductor_potential(p2, ho, to)\n",
    "\n",
    "# #     print(x1)\n",
    "# #     print(x2)\n",
    "\n",
    "    \n",
    "#     return (x2-x1)/dx\n",
    "\n",
    "                                                                                                          \n",
    "\n",
    "# # def type_II_superconductor_stiffness(position, initial_consitions):\n",
    "\n",
    "# def type_II_superconductor_frequencies(initial_consitions):\n",
    "#     equilibrium = type_II_superconductor_eq_position(initial_consitions)\n",
    "\n",
    "    \n",
    "    \n",
    "# def numerical_derivative(function, point, args, order=1, epsilon=1e-10):\n",
    "#     \"\"\"\n",
    "#     Finds the nth derivative of a 3D scalar function numerically, using the finite\n",
    "#     difference formulas found at the following url:\n",
    "#     https://en.wikipedia.org/wiki/Finite_difference_coefficient\n",
    "#     \"\"\"\n",
    "\n",
    "#     # coefficients of numerical derivatieves for orders 1 through 4,\n",
    "#     # in the form of a list of tuples (grid_position, coefficient)\n",
    "#     if order == 0:\n",
    "#         function_value = function(point, *args)\n",
    "#         return np.array([function_value, function_value, function_value])\n",
    "#     elif order == 1:\n",
    "#         coeffs = np.array([[-1,-0.5], [0,0], [1,0.5]])\n",
    "#     elif order == 2:\n",
    "#         coeffs = np.array([[-1, 1], [0,-2], [1, 1]])\n",
    "#     elif order == 3:\n",
    "#         coeffs = np.array([[-2, -0.5], [-1, 1], [0,0], [1, -1], [2, 0.5]])\n",
    "#     elif order == 4:\n",
    "#         coeffs = np.array([[-2, 1], [-1, -4], [0, 6], [1, -4], [2, 1]])\n",
    "#     else:\n",
    "#         print('Can only do zeroth through fourth derivative')\n",
    "#         raise ValueError\n",
    "    \n",
    "\n",
    "#     # Get vectors for small steps in x, y, and z\n",
    "#     tiny_x_step, tiny_y_step, tiny_z_step, tiny_t_step, tiny_p_step = epsilon*np.eye(5)\n",
    "\n",
    "#     finite_difference_x = np.sum([coeff * function(point + tiny_x_step*grid_pos, *args)\n",
    "#           for grid_pos, coeff in coeffs if coeff], axis=0)\n",
    "\n",
    "#     finite_difference_y = np.sum([coeff * function(point + tiny_y_step*grid_pos, *args)\n",
    "#           for grid_pos, coeff in coeffs if coeff], axis=0)\n",
    "\n",
    "#     finite_difference_z = np.sum([coeff * function(point + tiny_z_step*grid_pos, *args)\n",
    "#           for grid_pos, coeff in coeffs if coeff], axis=0)\n",
    "\n",
    "#     finite_difference_t = np.sum([coeff * function(point + tiny_t_step*grid_pos, *args)\n",
    "#           for grid_pos, coeff in coeffs if coeff], axis=0)\n",
    "    \n",
    "#     finite_difference_p = np.sum([coeff * function(point + tiny_p_step*grid_pos, *args)\n",
    "#           for grid_pos, coeff in coeffs if coeff], axis=0)\n",
    "    \n",
    "#     return np.transpose([finite_difference_x, finite_difference_y, finite_difference_z, finite_difference_t, finite_difference_p])/(epsilon**order)"
   ]
  },
  {
   "cell_type": "code",
   "execution_count": 33,
   "metadata": {},
   "outputs": [
    {
     "ename": "NameError",
     "evalue": "name 'numerical_derivative' is not defined",
     "output_type": "error",
     "traceback": [
      "\u001b[0;31m---------------------------------------------------------------------------\u001b[0m",
      "\u001b[0;31mNameError\u001b[0m                                 Traceback (most recent call last)",
      "\u001b[0;32m<ipython-input-33-a592bee07ea0>\u001b[0m in \u001b[0;36m<module>\u001b[0;34m()\u001b[0m\n\u001b[0;32m----> 1\u001b[0;31m \u001b[0mnumerical_derivative\u001b[0m\u001b[0;34m(\u001b[0m\u001b[0mtype_II_superconductor_potential\u001b[0m\u001b[0;34m,\u001b[0m \u001b[0mposition\u001b[0m\u001b[0;34m,\u001b[0m \u001b[0minitial_consitions\u001b[0m\u001b[0;34m,\u001b[0m \u001b[0morder\u001b[0m\u001b[0;34m=\u001b[0m\u001b[0;36m2\u001b[0m\u001b[0;34m,\u001b[0m \u001b[0mepsilon\u001b[0m\u001b[0;34m=\u001b[0m\u001b[0;36m1e-8\u001b[0m\u001b[0;34m)\u001b[0m\u001b[0;34m\u001b[0m\u001b[0m\n\u001b[0m",
      "\u001b[0;31mNameError\u001b[0m: name 'numerical_derivative' is not defined"
     ]
    }
   ],
   "source": [
    "numerical_derivative(type_II_superconductor_potential, position, initial_consitions, order=2, epsilon=1e-8)"
   ]
  },
  {
   "cell_type": "code",
   "execution_count": 244,
   "metadata": {},
   "outputs": [
    {
     "data": {
      "text/plain": [
       "array([  0.7905606 ,   0.        , -42.09196453,  -0.34257626,\n",
       "         0.        ])"
      ]
     },
     "execution_count": 244,
     "metadata": {},
     "output_type": "execute_result"
    }
   ],
   "source": [
    "type_II_superconductor_force(position, *initial_consitions)"
   ]
  },
  {
   "cell_type": "code",
   "execution_count": 247,
   "metadata": {},
   "outputs": [
    {
     "name": "stdout",
     "output_type": "stream",
     "text": [
      "Optimization terminated successfully.\n",
      "         Current function value: -7.951606\n",
      "         Iterations: 786\n",
      "         Function evaluations: 1389\n",
      "[-6.59319114e-02  2.77957752e-09  2.77761839e-01  2.34820852e+00\n",
      " -3.08660785e-08]\n",
      "-7.951605899375462\n",
      "-0.6987563324785264\n"
     ]
    }
   ],
   "source": [
    "initial_consitions = (0.1, 3)\n",
    "position_eq = type_II_superconductor_eq_position(initial_consitions)\n",
    "print(position_eq)\n",
    "print(type_II_superconductor_potential(position_eq, *initial_consitions))\n",
    "print(type_II_superconductor_potential(position_guess, *initial_consitions))"
   ]
  },
  {
   "cell_type": "code",
   "execution_count": 239,
   "metadata": {},
   "outputs": [],
   "source": [
    "position_guess = [0,0,initial_consitions[0],initial_consitions[1], 0]"
   ]
  },
  {
   "cell_type": "code",
   "execution_count": 209,
   "metadata": {},
   "outputs": [
    {
     "data": {
      "text/plain": [
       "(0.3042872620540038, 0.0, -66.26929938136072, -0.1318571918318412, 0.0)"
      ]
     },
     "execution_count": 209,
     "metadata": {},
     "output_type": "execute_result"
    }
   ],
   "source": [
    "\n"
   ]
  },
  {
   "cell_type": "code",
   "execution_count": 170,
   "metadata": {},
   "outputs": [
    {
     "data": {
      "text/plain": [
       "(-0.0, 0.0, 215.9135802469136, -0.0, -0.0)"
      ]
     },
     "execution_count": 170,
     "metadata": {},
     "output_type": "execute_result"
    }
   ],
   "source": [
    "type_II_superconductor_force(position, *initial_consitions)"
   ]
  },
  {
   "cell_type": "code",
   "execution_count": 171,
   "metadata": {},
   "outputs": [
    {
     "data": {
      "text/plain": [
       "(-0.0, 0.0, 215.9135802469136, -0.0, -0.0)"
      ]
     },
     "execution_count": 171,
     "metadata": {},
     "output_type": "execute_result"
    }
   ],
   "source": [
    "type_II_superconductor_force(position, *initial_consitions)"
   ]
  },
  {
   "cell_type": "code",
   "execution_count": 172,
   "metadata": {},
   "outputs": [
    {
     "data": {
      "text/plain": [
       "-3.6703748014753197"
      ]
     },
     "execution_count": 172,
     "metadata": {},
     "output_type": "execute_result"
    }
   ],
   "source": [
    " type_II_superconductor_potential(position, *initial_consitions)"
   ]
  },
  {
   "cell_type": "code",
   "execution_count": 173,
   "metadata": {},
   "outputs": [
    {
     "data": {
      "text/plain": [
       "[<matplotlib.lines.Line2D at 0x101d575320>]"
      ]
     },
     "execution_count": 173,
     "metadata": {},
     "output_type": "execute_result"
    },
    {
     "data": {
      "image/png": "[encoded data removed]",
      "text/plain": [
       "<Figure size 432x288 with 1 Axes>"
      ]
     },
     "metadata": {},
     "output_type": "display_data"
    }
   ],
   "source": [
    "def f(x):\n",
    "    \n",
    "    position = [0,0,x, 0,0]\n",
    "    initial_consitions = (0.2, 0)\n",
    "    return type_II_superconductor_potential(position, *initial_consitions)\n",
    "    \n",
    "x = np.arange(0.2,1,0.01)\n",
    "\n",
    "plt.plot(x, f(x))\n",
    "# f(x), x"
   ]
  },
  {
   "cell_type": "code",
   "execution_count": 174,
   "metadata": {},
   "outputs": [
    {
     "ename": "ValueError",
     "evalue": "length of x0 != length of bounds",
     "output_type": "error",
     "traceback": [
      "\u001b[0;31m---------------------------------------------------------------------------\u001b[0m",
      "\u001b[0;31mValueError\u001b[0m                                Traceback (most recent call last)",
      "\u001b[0;32m<ipython-input-174-2993f95c4432>\u001b[0m in \u001b[0;36m<module>\u001b[0;34m()\u001b[0m\n\u001b[1;32m      1\u001b[0m \u001b[0minitial_consitions\u001b[0m \u001b[0;34m=\u001b[0m \u001b[0;34m(\u001b[0m\u001b[0;36m0.1\u001b[0m\u001b[0;34m,\u001b[0m \u001b[0;36m0\u001b[0m\u001b[0;34m)\u001b[0m\u001b[0;34m\u001b[0m\u001b[0m\n\u001b[0;32m----> 2\u001b[0;31m \u001b[0mtype_II_superconductor_eq_position\u001b[0m\u001b[0;34m(\u001b[0m\u001b[0minitial_consitions\u001b[0m\u001b[0;34m)\u001b[0m\u001b[0;34m\u001b[0m\u001b[0m\n\u001b[0m",
      "\u001b[0;32m<ipython-input-167-7b9df4d99183>\u001b[0m in \u001b[0;36mtype_II_superconductor_eq_position\u001b[0;34m(initial_consitions)\u001b[0m\n\u001b[1;32m     27\u001b[0m \u001b[0;31m#     bounds = [(-1,1), (-1,1), (-ho, 1000), (0, pi)]\u001b[0m\u001b[0;34m\u001b[0m\u001b[0;34m\u001b[0m\u001b[0m\n\u001b[1;32m     28\u001b[0m     \u001b[0mbounds\u001b[0m \u001b[0;34m=\u001b[0m \u001b[0;34m[\u001b[0m\u001b[0;34m(\u001b[0m\u001b[0;34m-\u001b[0m\u001b[0;36m1\u001b[0m\u001b[0;34m,\u001b[0m\u001b[0;36m1\u001b[0m\u001b[0;34m)\u001b[0m\u001b[0;34m,\u001b[0m \u001b[0;34m(\u001b[0m\u001b[0;34m-\u001b[0m\u001b[0;36m1\u001b[0m\u001b[0;34m,\u001b[0m\u001b[0;36m1\u001b[0m\u001b[0;34m)\u001b[0m\u001b[0;34m,\u001b[0m \u001b[0;34m(\u001b[0m\u001b[0;34m-\u001b[0m\u001b[0mho\u001b[0m\u001b[0;34m,\u001b[0m \u001b[0;36m1000\u001b[0m\u001b[0;34m)\u001b[0m\u001b[0;34m]\u001b[0m\u001b[0;34m\u001b[0m\u001b[0m\n\u001b[0;32m---> 29\u001b[0;31m     \u001b[0mres\u001b[0m \u001b[0;34m=\u001b[0m \u001b[0mminimize\u001b[0m\u001b[0;34m(\u001b[0m\u001b[0mtype_II_superconductor_potential\u001b[0m\u001b[0;34m,\u001b[0m \u001b[0mx0\u001b[0m\u001b[0;34m,\u001b[0m \u001b[0margs\u001b[0m\u001b[0;34m=\u001b[0m\u001b[0minitial_consitions\u001b[0m\u001b[0;34m,\u001b[0m \u001b[0mjac\u001b[0m\u001b[0;34m=\u001b[0m\u001b[0mtype_II_superconductor_force\u001b[0m\u001b[0;34m,\u001b[0m \u001b[0mtol\u001b[0m\u001b[0;34m=\u001b[0m\u001b[0;36m1e-6\u001b[0m\u001b[0;34m,\u001b[0m \u001b[0mbounds\u001b[0m \u001b[0;34m=\u001b[0m \u001b[0mbounds\u001b[0m\u001b[0;34m)\u001b[0m\u001b[0;34m\u001b[0m\u001b[0m\n\u001b[0m\u001b[1;32m     30\u001b[0m \u001b[0;34m\u001b[0m\u001b[0m\n\u001b[1;32m     31\u001b[0m \u001b[0;34m\u001b[0m\u001b[0m\n",
      "\u001b[0;32m/Applications/anaconda3/lib/python3.6/site-packages/scipy/optimize/_minimize.py\u001b[0m in \u001b[0;36mminimize\u001b[0;34m(fun, x0, args, method, jac, hess, hessp, bounds, constraints, tol, callback, options)\u001b[0m\n\u001b[1;32m    601\u001b[0m     \u001b[0;32melif\u001b[0m \u001b[0mmeth\u001b[0m \u001b[0;34m==\u001b[0m \u001b[0;34m'l-bfgs-b'\u001b[0m\u001b[0;34m:\u001b[0m\u001b[0;34m\u001b[0m\u001b[0m\n\u001b[1;32m    602\u001b[0m         return _minimize_lbfgsb(fun, x0, args, jac, bounds,\n\u001b[0;32m--> 603\u001b[0;31m                                 callback=callback, **options)\n\u001b[0m\u001b[1;32m    604\u001b[0m     \u001b[0;32melif\u001b[0m \u001b[0mmeth\u001b[0m \u001b[0;34m==\u001b[0m \u001b[0;34m'tnc'\u001b[0m\u001b[0;34m:\u001b[0m\u001b[0;34m\u001b[0m\u001b[0m\n\u001b[1;32m    605\u001b[0m         return _minimize_tnc(fun, x0, args, jac, bounds, callback=callback,\n",
      "\u001b[0;32m/Applications/anaconda3/lib/python3.6/site-packages/scipy/optimize/lbfgsb.py\u001b[0m in \u001b[0;36m_minimize_lbfgsb\u001b[0;34m(fun, x0, args, jac, bounds, disp, maxcor, ftol, gtol, eps, maxfun, maxiter, iprint, callback, maxls, **unknown_options)\u001b[0m\n\u001b[1;32m    265\u001b[0m         \u001b[0mbounds\u001b[0m \u001b[0;34m=\u001b[0m \u001b[0;34m[\u001b[0m\u001b[0;34m(\u001b[0m\u001b[0;32mNone\u001b[0m\u001b[0;34m,\u001b[0m \u001b[0;32mNone\u001b[0m\u001b[0;34m)\u001b[0m\u001b[0;34m]\u001b[0m \u001b[0;34m*\u001b[0m \u001b[0mn\u001b[0m\u001b[0;34m\u001b[0m\u001b[0m\n\u001b[1;32m    266\u001b[0m     \u001b[0;32mif\u001b[0m \u001b[0mlen\u001b[0m\u001b[0;34m(\u001b[0m\u001b[0mbounds\u001b[0m\u001b[0;34m)\u001b[0m \u001b[0;34m!=\u001b[0m \u001b[0mn\u001b[0m\u001b[0;34m:\u001b[0m\u001b[0;34m\u001b[0m\u001b[0m\n\u001b[0;32m--> 267\u001b[0;31m         \u001b[0;32mraise\u001b[0m \u001b[0mValueError\u001b[0m\u001b[0;34m(\u001b[0m\u001b[0;34m'length of x0 != length of bounds'\u001b[0m\u001b[0;34m)\u001b[0m\u001b[0;34m\u001b[0m\u001b[0m\n\u001b[0m\u001b[1;32m    268\u001b[0m     \u001b[0;31m# unbounded variables must use None, not +-inf, for optimizer to work properly\u001b[0m\u001b[0;34m\u001b[0m\u001b[0;34m\u001b[0m\u001b[0m\n\u001b[1;32m    269\u001b[0m     \u001b[0mbounds\u001b[0m \u001b[0;34m=\u001b[0m \u001b[0;34m[\u001b[0m\u001b[0;34m(\u001b[0m\u001b[0;32mNone\u001b[0m \u001b[0;32mif\u001b[0m \u001b[0ml\u001b[0m \u001b[0;34m==\u001b[0m \u001b[0;34m-\u001b[0m\u001b[0mnp\u001b[0m\u001b[0;34m.\u001b[0m\u001b[0minf\u001b[0m \u001b[0;32melse\u001b[0m \u001b[0ml\u001b[0m\u001b[0;34m,\u001b[0m \u001b[0;32mNone\u001b[0m \u001b[0;32mif\u001b[0m \u001b[0mu\u001b[0m \u001b[0;34m==\u001b[0m \u001b[0mnp\u001b[0m\u001b[0;34m.\u001b[0m\u001b[0minf\u001b[0m \u001b[0;32melse\u001b[0m \u001b[0mu\u001b[0m\u001b[0;34m)\u001b[0m \u001b[0;32mfor\u001b[0m \u001b[0ml\u001b[0m\u001b[0;34m,\u001b[0m \u001b[0mu\u001b[0m \u001b[0;32min\u001b[0m \u001b[0mbounds\u001b[0m\u001b[0;34m]\u001b[0m\u001b[0;34m\u001b[0m\u001b[0m\n",
      "\u001b[0;31mValueError\u001b[0m: length of x0 != length of bounds"
     ]
    }
   ],
   "source": []
  },
  {
   "cell_type": "code",
   "execution_count": null,
   "metadata": {},
   "outputs": [],
   "source": []
  },
  {
   "cell_type": "code",
   "execution_count": null,
   "metadata": {},
   "outputs": [],
   "source": []
  }
 ],
 "metadata": {
  "kernelspec": {
   "display_name": "Python [default]",
   "language": "python",
   "name": "python3"
  },
  "language_info": {
   "codemirror_mode": {
    "name": "ipython",
    "version": 3
   },
   "file_extension": ".py",
   "mimetype": "text/x-python",
   "name": "python",
   "nbconvert_exporter": "python",
   "pygments_lexer": "ipython3",
   "version": "3.6.5"
  }
 },
 "nbformat": 4,
 "nbformat_minor": 2
}
